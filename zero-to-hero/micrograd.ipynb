{
 "cells": [
  {
   "cell_type": "markdown",
   "metadata": {},
   "source": [
    "# Micrograd\n",
    "So this guy is where we build a neural net from scratch.\n",
    "We literally will make one, and perform back propagation by deriving some of the math\n"
   ]
  },
  {
   "cell_type": "code",
   "execution_count": 1,
   "metadata": {},
   "outputs": [],
   "source": [
    "import numpy as np\n",
    "import graphviz as gz\n",
    "import matplotlib.pyplot as plt\n",
    "import math\n",
    "\n",
    "%matplotlib inline\n"
   ]
  },
  {
   "cell_type": "markdown",
   "metadata": {},
   "source": [
    "## Constructing ADT\n",
    "Here we setup the initial ADT for discrete integer boxing, which will allow us to build a graph of operations that will eventually be topologically sorted to perform back propogation.\n",
    "* One thing that i want to learn to do is write math formulas inline in markdown.  Please papa Andrej do this in the future."
   ]
  },
  {
   "cell_type": "code",
   "execution_count": 240,
   "metadata": {},
   "outputs": [],
   "source": [
    "class Value:\n",
    "    def __init__(self, data, _children=(), _op=None, label=''):\n",
    "        self.data = data\n",
    "        self.label = label\n",
    "        self._grad = 0.0\n",
    "        self._children = set(_children)\n",
    "        self._op = _op\n",
    "        self._back = lambda: None\n",
    "    def __repr__(self) -> str:\n",
    "        if self._op == None:\n",
    "            return f\"Value({self.label}: {self.data: .4f})\"\n",
    "        else:\n",
    "            return f\"Value({self.label}: {self.data: .4f} = ({self._op} {[c.data for c in self._children]}))\"\n",
    "\n",
    "    def __add__(self, o) -> 'Value':\n",
    "        o = o if isinstance(o, Value) else Value(o)\n",
    "        out = Value(self.data + o.data, (self, o), '+')\n",
    "        def _back():\n",
    "            self._grad += 1.0 * out._grad\n",
    "            o._grad += 1.0 * out._grad\n",
    "        out._back = _back\n",
    "        return out\n",
    "\n",
    "    def __sub__(self, o) -> 'Value':\n",
    "        out = self + (o * -1) \n",
    "        return out\n",
    "\n",
    "    def __mul__(self, o) -> 'Value':\n",
    "        o = o if isinstance(o, Value) else Value(o)\n",
    "        out = Value(self.data * o.data, (self, o), '*')\n",
    "        def _back():\n",
    "            self._grad += o.data * out._grad\n",
    "            o._grad += self.data * out._grad\n",
    "        out._back = _back\n",
    "        return out\n",
    "    \n",
    "    # a / b => a * (1/b) => a * b^-1\n",
    "    def __truediv__(self, o) -> 'Value':\n",
    "        o = o if isinstance(o, Value) else Value(o)\n",
    "        out = self * (o ** (-1))\n",
    "        return out\n",
    "    \n",
    "    def __pow__(self, o) -> 'Value':\n",
    "        o = o if isinstance(o, Value) else Value(o)\n",
    "        out = Value(self.data ** o.data, (self, o), 'pow')\n",
    "        def _back():\n",
    "            self._grad += (o.data * self.data ** (o.data  - 1)) * out._grad\n",
    "            print('pow', self._grad)\n",
    "            o._grad += math.log(self.data) * out.data * out._grad\n",
    "        out._back = _back\n",
    "        return out\n",
    "        \n",
    "    \n",
    "    def tanh(self) -> 'Value':\n",
    "        t = (2 * self).exp()\n",
    "        tanh = (t - 1) / (t + 1)\n",
    "        return tanh\n",
    "\n",
    "    def ptanh(self) -> 'Value':\n",
    "        t = math.exp(2 * self.data)\n",
    "        tanh = (t - 1) / (t + 1)\n",
    "        out = Value(tanh, (self,), 'tanh')\n",
    "        def _back():\n",
    "            self._grad += (1 - tanh**2) * out._grad\n",
    "        out._back = _back\n",
    "        return out\n",
    "    \n",
    "    def exp(self) -> 'Value':\n",
    "        # f = e^x\n",
    "        # df/dx = f\n",
    "        out = Value(math.exp(self.data), (self,), 'exp')\n",
    "        def back():\n",
    "            self._grad += out.data * out._grad\n",
    "            print('exp', out.data, out._grad)\n",
    "        out._back = back\n",
    "        return out\n",
    "\n",
    "    def backward(self):\n",
    "        topo = []\n",
    "        visited = set()\n",
    "        # Topological sort\n",
    "        def sort(v):\n",
    "            if v not in visited:\n",
    "                visited.add(v)\n",
    "                for c in v._children:\n",
    "                    sort(c)\n",
    "                topo.append(v)\n",
    "        sort(self)\n",
    "        self._grad = 1.\n",
    "        for n in reversed(topo):\n",
    "            n._back()\n",
    "\n",
    "    def zero_back(self):\n",
    "        self._grad = 0;\n",
    "        q = [self]\n",
    "        # seen = set()\n",
    "        while len(q) > 0:\n",
    "            n = q.pop(0)\n",
    "            n._grad = 0.0\n",
    "            q.extend(n._children)\n",
    "\n",
    "    \n",
    "    def __radd__(self, o) -> 'Value':\n",
    "        return self + o\n",
    "    def __rsub__(self, o) -> 'Value':\n",
    "        return self - o\n",
    "    def __rmul__(self, o) -> 'Value':\n",
    "        return self * o\n",
    "    def __rtruediv__(self, o) -> 'Value':\n",
    "        return self / 0\n"
   ]
  },
  {
   "cell_type": "markdown",
   "metadata": {},
   "source": [
    "## Graphing the graph\n",
    "Lets plot this sucker using graphviz. Turns out the api is pretty easy to use. We can use recursion to build up our nodes in BFS order."
   ]
  },
  {
   "cell_type": "code",
   "execution_count": 216,
   "metadata": {},
   "outputs": [],
   "source": [
    "def graph_value(v: Value):\n",
    "    visited = {}\n",
    "    g = gz.Digraph('G', node_attr={'shape': 'record', 'color': 'blue'}, edge_attr={})\n",
    "    def ns(n: int, v : Value) -> str:\n",
    "        g.node(str(n), f'{v.label}|{v.data : .4f}|grad: {v._grad: .4f}')\n",
    "        if v._op is not None:\n",
    "            n += 1\n",
    "            g.node(str(n), v._op, shape='ellipse', style='filled', fillcolor='yellow')\n",
    "            g.edge(str(n), str(n-1))\n",
    "        n0 = n\n",
    "        for v in v._children:\n",
    "            assert(isinstance(n, int))\n",
    "            if v not in visited:\n",
    "                n0 =  n0 + 1\n",
    "                n2 = ns(n0, v)\n",
    "                g.edge(str(n0), str(n))\n",
    "                visited[v] = str(n0)\n",
    "                n0 = n2\n",
    "            else:\n",
    "                g.edge(visited[v], str(n))\n",
    "        return n0\n",
    "    ns(1,v)\n",
    "    return g\n"
   ]
  },
  {
   "cell_type": "code",
   "execution_count": 244,
   "metadata": {},
   "outputs": [
    {
     "name": "stdout",
     "output_type": "stream",
     "text": [
      "pow -0.11298802528498321\n",
      "exp 4.797044504278355 0.059513669201228955\n"
     ]
    },
    {
     "data": {
      "image/svg+xml": "<?xml version=\"1.0\" encoding=\"UTF-8\" standalone=\"no\"?>\n<!DOCTYPE svg PUBLIC \"-//W3C//DTD SVG 1.1//EN\"\n \"http://www.w3.org/Graphics/SVG/1.1/DTD/svg11.dtd\">\n<!-- Generated by graphviz version 7.0.1 (0)\n -->\n<!-- Title: G Pages: 1 -->\n<svg width=\"791pt\" height=\"1351pt\"\n viewBox=\"0.00 0.00 791.00 1351.00\" xmlns=\"http://www.w3.org/2000/svg\" xmlns:xlink=\"http://www.w3.org/1999/xlink\">\n<g id=\"graph0\" class=\"graph\" transform=\"scale(1 1) rotate(0) translate(4 1347)\">\n<title>G</title>\n<polygon fill=\"white\" stroke=\"none\" points=\"-4,4 -4,-1347 787,-1347 787,4 -4,4\"/>\n<!-- 1 -->\n<g id=\"node1\" class=\"node\">\n<title>1</title>\n<polygon fill=\"none\" stroke=\"blue\" points=\"268,-0.5 268,-36.5 464,-36.5 464,-0.5 268,-0.5\"/>\n<text text-anchor=\"middle\" x=\"279\" y=\"-14.8\" font-family=\"Times,serif\" font-size=\"14.00\">f</text>\n<polyline fill=\"none\" stroke=\"blue\" points=\"290,-0.5 290,-36.5\"/>\n<text text-anchor=\"middle\" x=\"323\" y=\"-14.8\" font-family=\"Times,serif\" font-size=\"14.00\">0.6550</text>\n<polyline fill=\"none\" stroke=\"blue\" points=\"356,-0.5 356,-36.5\"/>\n<text text-anchor=\"middle\" x=\"410\" y=\"-14.8\" font-family=\"Times,serif\" font-size=\"14.00\">grad: 1.0000</text>\n</g>\n<!-- 2 -->\n<g id=\"node2\" class=\"node\">\n<title>2</title>\n<ellipse fill=\"yellow\" stroke=\"blue\" cx=\"366\" cy=\"-91\" rx=\"27\" ry=\"18\"/>\n<text text-anchor=\"middle\" x=\"366\" y=\"-87.3\" font-family=\"Times,serif\" font-size=\"14.00\">*</text>\n</g>\n<!-- 2&#45;&gt;1 -->\n<g id=\"edge1\" class=\"edge\">\n<title>2&#45;&gt;1</title>\n<path fill=\"none\" stroke=\"black\" d=\"M366,-72.57C366,-65.03 366,-56.02 366,-47.58\"/>\n<polygon fill=\"black\" stroke=\"black\" points=\"369.5,-47.75 366,-37.75 362.5,-47.75 369.5,-47.75\"/>\n</g>\n<!-- 3 -->\n<g id=\"node3\" class=\"node\">\n<title>3</title>\n<polygon fill=\"none\" stroke=\"blue\" points=\"196.5,-218.5 196.5,-254.5 391.5,-254.5 391.5,-218.5 196.5,-218.5\"/>\n<text text-anchor=\"middle\" x=\"207\" y=\"-232.8\" font-family=\"Times,serif\" font-size=\"14.00\"> </text>\n<polyline fill=\"none\" stroke=\"blue\" points=\"217.5,-218.5 217.5,-254.5\"/>\n<text text-anchor=\"middle\" x=\"250.5\" y=\"-232.8\" font-family=\"Times,serif\" font-size=\"14.00\">3.7970</text>\n<polyline fill=\"none\" stroke=\"blue\" points=\"283.5,-218.5 283.5,-254.5\"/>\n<text text-anchor=\"middle\" x=\"337.5\" y=\"-232.8\" font-family=\"Times,serif\" font-size=\"14.00\">grad: 0.1725</text>\n</g>\n<!-- 3&#45;&gt;2 -->\n<g id=\"edge25\" class=\"edge\">\n<title>3&#45;&gt;2</title>\n<path fill=\"none\" stroke=\"black\" d=\"M298.6,-218.54C304.02,-199.89 313.96,-169.32 327,-145 332.39,-134.94 339.51,-124.67 346.19,-115.87\"/>\n<polygon fill=\"black\" stroke=\"black\" points=\"348.81,-118.21 352.23,-108.18 343.3,-113.89 348.81,-118.21\"/>\n</g>\n<!-- 4 -->\n<g id=\"node4\" class=\"node\">\n<title>4</title>\n<ellipse fill=\"yellow\" stroke=\"blue\" cx=\"294\" cy=\"-382\" rx=\"27\" ry=\"18\"/>\n<text text-anchor=\"middle\" x=\"294\" y=\"-378.3\" font-family=\"Times,serif\" font-size=\"14.00\">+</text>\n</g>\n<!-- 4&#45;&gt;3 -->\n<g id=\"edge2\" class=\"edge\">\n<title>4&#45;&gt;3</title>\n<path fill=\"none\" stroke=\"black\" d=\"M294,-363.69C294,-339.43 294,-295.01 294,-265.87\"/>\n<polygon fill=\"black\" stroke=\"black\" points=\"297.5,-265.94 294,-255.94 290.5,-265.94 297.5,-265.94\"/>\n</g>\n<!-- 5 -->\n<g id=\"node5\" class=\"node\">\n<title>5</title>\n<polygon fill=\"none\" stroke=\"blue\" points=\"369.5,-436.5 369.5,-472.5 564.5,-472.5 564.5,-436.5 369.5,-436.5\"/>\n<text text-anchor=\"middle\" x=\"380\" y=\"-450.8\" font-family=\"Times,serif\" font-size=\"14.00\"> </text>\n<polyline fill=\"none\" stroke=\"blue\" points=\"390.5,-436.5 390.5,-472.5\"/>\n<text text-anchor=\"middle\" x=\"423.5\" y=\"-450.8\" font-family=\"Times,serif\" font-size=\"14.00\">4.7970</text>\n<polyline fill=\"none\" stroke=\"blue\" points=\"456.5,-436.5 456.5,-472.5\"/>\n<text text-anchor=\"middle\" x=\"510.5\" y=\"-450.8\" font-family=\"Times,serif\" font-size=\"14.00\">grad: 0.0595</text>\n</g>\n<!-- 5&#45;&gt;4 -->\n<g id=\"edge23\" class=\"edge\">\n<title>5&#45;&gt;4</title>\n<path fill=\"none\" stroke=\"black\" d=\"M425.56,-436.61C395.38,-424.31 355.05,-407.88 327.03,-396.46\"/>\n<polygon fill=\"black\" stroke=\"black\" points=\"328.56,-393.3 317.98,-392.77 325.92,-399.79 328.56,-393.3\"/>\n</g>\n<!-- 28 -->\n<g id=\"node28\" class=\"node\">\n<title>28</title>\n<ellipse fill=\"yellow\" stroke=\"blue\" cx=\"648\" cy=\"-382\" rx=\"27\" ry=\"18\"/>\n<text text-anchor=\"middle\" x=\"648\" y=\"-378.3\" font-family=\"Times,serif\" font-size=\"14.00\">+</text>\n</g>\n<!-- 5&#45;&gt;28 -->\n<g id=\"edge28\" class=\"edge\">\n<title>5&#45;&gt;28</title>\n<path fill=\"none\" stroke=\"black\" d=\"M510.35,-436.61C542.26,-424.19 585,-407.54 614.35,-396.11\"/>\n<polygon fill=\"black\" stroke=\"black\" points=\"615.43,-399.44 623.48,-392.55 612.89,-392.92 615.43,-399.44\"/>\n</g>\n<!-- 6 -->\n<g id=\"node6\" class=\"node\">\n<title>6</title>\n<ellipse fill=\"yellow\" stroke=\"blue\" cx=\"467\" cy=\"-527\" rx=\"27.1\" ry=\"18\"/>\n<text text-anchor=\"middle\" x=\"467\" y=\"-523.3\" font-family=\"Times,serif\" font-size=\"14.00\">exp</text>\n</g>\n<!-- 6&#45;&gt;5 -->\n<g id=\"edge3\" class=\"edge\">\n<title>6&#45;&gt;5</title>\n<path fill=\"none\" stroke=\"black\" d=\"M467,-508.57C467,-501.03 467,-492.02 467,-483.58\"/>\n<polygon fill=\"black\" stroke=\"black\" points=\"470.5,-483.75 467,-473.75 463.5,-483.75 470.5,-483.75\"/>\n</g>\n<!-- 7 -->\n<g id=\"node7\" class=\"node\">\n<title>7</title>\n<polygon fill=\"none\" stroke=\"blue\" points=\"369.5,-581.5 369.5,-617.5 564.5,-617.5 564.5,-581.5 369.5,-581.5\"/>\n<text text-anchor=\"middle\" x=\"380\" y=\"-595.8\" font-family=\"Times,serif\" font-size=\"14.00\"> </text>\n<polyline fill=\"none\" stroke=\"blue\" points=\"390.5,-581.5 390.5,-617.5\"/>\n<text text-anchor=\"middle\" x=\"423.5\" y=\"-595.8\" font-family=\"Times,serif\" font-size=\"14.00\">1.5680</text>\n<polyline fill=\"none\" stroke=\"blue\" points=\"456.5,-581.5 456.5,-617.5\"/>\n<text text-anchor=\"middle\" x=\"510.5\" y=\"-595.8\" font-family=\"Times,serif\" font-size=\"14.00\">grad: 0.2855</text>\n</g>\n<!-- 7&#45;&gt;6 -->\n<g id=\"edge22\" class=\"edge\">\n<title>7&#45;&gt;6</title>\n<path fill=\"none\" stroke=\"black\" d=\"M467,-581.79C467,-574.18 467,-564.95 467,-556.3\"/>\n<polygon fill=\"black\" stroke=\"black\" points=\"470.5,-556.59 467,-546.59 463.5,-556.59 470.5,-556.59\"/>\n</g>\n<!-- 8 -->\n<g id=\"node8\" class=\"node\">\n<title>8</title>\n<ellipse fill=\"yellow\" stroke=\"blue\" cx=\"467\" cy=\"-672\" rx=\"27\" ry=\"18\"/>\n<text text-anchor=\"middle\" x=\"467\" y=\"-668.3\" font-family=\"Times,serif\" font-size=\"14.00\">*</text>\n</g>\n<!-- 8&#45;&gt;7 -->\n<g id=\"edge4\" class=\"edge\">\n<title>8&#45;&gt;7</title>\n<path fill=\"none\" stroke=\"black\" d=\"M467,-653.57C467,-646.03 467,-637.02 467,-628.58\"/>\n<polygon fill=\"black\" stroke=\"black\" points=\"470.5,-628.75 467,-618.75 463.5,-628.75 470.5,-628.75\"/>\n</g>\n<!-- 9 -->\n<g id=\"node9\" class=\"node\">\n<title>9</title>\n<polygon fill=\"none\" stroke=\"blue\" points=\"260.5,-726.5 260.5,-762.5 459.5,-762.5 459.5,-726.5 260.5,-726.5\"/>\n<text text-anchor=\"middle\" x=\"273\" y=\"-740.8\" font-family=\"Times,serif\" font-size=\"14.00\">e</text>\n<polyline fill=\"none\" stroke=\"blue\" points=\"285.5,-726.5 285.5,-762.5\"/>\n<text text-anchor=\"middle\" x=\"318.5\" y=\"-740.8\" font-family=\"Times,serif\" font-size=\"14.00\">0.7840</text>\n<polyline fill=\"none\" stroke=\"blue\" points=\"351.5,-726.5 351.5,-762.5\"/>\n<text text-anchor=\"middle\" x=\"405.5\" y=\"-740.8\" font-family=\"Times,serif\" font-size=\"14.00\">grad: 0.5710</text>\n</g>\n<!-- 9&#45;&gt;8 -->\n<g id=\"edge20\" class=\"edge\">\n<title>9&#45;&gt;8</title>\n<path fill=\"none\" stroke=\"black\" d=\"M385.63,-726.61C401.75,-715.99 422.57,-702.28 439.11,-691.38\"/>\n<polygon fill=\"black\" stroke=\"black\" points=\"440.59,-694.59 447.02,-686.17 436.74,-688.75 440.59,-694.59\"/>\n</g>\n<!-- 10 -->\n<g id=\"node10\" class=\"node\">\n<title>10</title>\n<ellipse fill=\"yellow\" stroke=\"blue\" cx=\"360\" cy=\"-817\" rx=\"27\" ry=\"18\"/>\n<text text-anchor=\"middle\" x=\"360\" y=\"-813.3\" font-family=\"Times,serif\" font-size=\"14.00\">+</text>\n</g>\n<!-- 10&#45;&gt;9 -->\n<g id=\"edge5\" class=\"edge\">\n<title>10&#45;&gt;9</title>\n<path fill=\"none\" stroke=\"black\" d=\"M360,-798.57C360,-791.03 360,-782.02 360,-773.58\"/>\n<polygon fill=\"black\" stroke=\"black\" points=\"363.5,-773.75 360,-763.75 356.5,-773.75 363.5,-773.75\"/>\n</g>\n<!-- 11 -->\n<g id=\"node11\" class=\"node\">\n<title>11</title>\n<polygon fill=\"none\" stroke=\"blue\" points=\"156.5,-871.5 156.5,-907.5 351.5,-907.5 351.5,-871.5 156.5,-871.5\"/>\n<text text-anchor=\"middle\" x=\"167\" y=\"-885.8\" font-family=\"Times,serif\" font-size=\"14.00\"> </text>\n<polyline fill=\"none\" stroke=\"blue\" points=\"177.5,-871.5 177.5,-907.5\"/>\n<text text-anchor=\"middle\" x=\"210.5\" y=\"-885.8\" font-family=\"Times,serif\" font-size=\"14.00\">0.3000</text>\n<polyline fill=\"none\" stroke=\"blue\" points=\"243.5,-871.5 243.5,-907.5\"/>\n<text text-anchor=\"middle\" x=\"297.5\" y=\"-885.8\" font-family=\"Times,serif\" font-size=\"14.00\">grad: 0.5710</text>\n</g>\n<!-- 11&#45;&gt;10 -->\n<g id=\"edge6\" class=\"edge\">\n<title>11&#45;&gt;10</title>\n<path fill=\"none\" stroke=\"black\" d=\"M279.39,-871.61C295.21,-861.09 315.6,-847.53 331.91,-836.69\"/>\n<polygon fill=\"black\" stroke=\"black\" points=\"333.81,-839.62 340.2,-831.17 329.93,-833.79 333.81,-839.62\"/>\n</g>\n<!-- 12 -->\n<g id=\"node12\" class=\"node\">\n<title>12</title>\n<polygon fill=\"none\" stroke=\"blue\" points=\"369.5,-871.5 369.5,-907.5 564.5,-907.5 564.5,-871.5 369.5,-871.5\"/>\n<text text-anchor=\"middle\" x=\"380\" y=\"-885.8\" font-family=\"Times,serif\" font-size=\"14.00\"> </text>\n<polyline fill=\"none\" stroke=\"blue\" points=\"390.5,-871.5 390.5,-907.5\"/>\n<text text-anchor=\"middle\" x=\"423.5\" y=\"-885.8\" font-family=\"Times,serif\" font-size=\"14.00\">0.4840</text>\n<polyline fill=\"none\" stroke=\"blue\" points=\"456.5,-871.5 456.5,-907.5\"/>\n<text text-anchor=\"middle\" x=\"510.5\" y=\"-885.8\" font-family=\"Times,serif\" font-size=\"14.00\">grad: 0.5710</text>\n</g>\n<!-- 12&#45;&gt;10 -->\n<g id=\"edge19\" class=\"edge\">\n<title>12&#45;&gt;10</title>\n<path fill=\"none\" stroke=\"black\" d=\"M441.37,-871.61C425.25,-860.99 404.43,-847.28 387.89,-836.38\"/>\n<polygon fill=\"black\" stroke=\"black\" points=\"390.26,-833.75 379.98,-831.17 386.41,-839.59 390.26,-833.75\"/>\n</g>\n<!-- 13 -->\n<g id=\"node13\" class=\"node\">\n<title>13</title>\n<ellipse fill=\"yellow\" stroke=\"blue\" cx=\"467\" cy=\"-962\" rx=\"27\" ry=\"18\"/>\n<text text-anchor=\"middle\" x=\"467\" y=\"-958.3\" font-family=\"Times,serif\" font-size=\"14.00\">+</text>\n</g>\n<!-- 13&#45;&gt;12 -->\n<g id=\"edge7\" class=\"edge\">\n<title>13&#45;&gt;12</title>\n<path fill=\"none\" stroke=\"black\" d=\"M467,-943.57C467,-936.03 467,-927.02 467,-918.58\"/>\n<polygon fill=\"black\" stroke=\"black\" points=\"470.5,-918.75 467,-908.75 463.5,-918.75 470.5,-918.75\"/>\n</g>\n<!-- 14 -->\n<g id=\"node14\" class=\"node\">\n<title>14</title>\n<polygon fill=\"none\" stroke=\"blue\" points=\"306.5,-1016.5 306.5,-1052.5 501.5,-1052.5 501.5,-1016.5 306.5,-1016.5\"/>\n<text text-anchor=\"middle\" x=\"317\" y=\"-1030.8\" font-family=\"Times,serif\" font-size=\"14.00\"> </text>\n<polyline fill=\"none\" stroke=\"blue\" points=\"327.5,-1016.5 327.5,-1052.5\"/>\n<text text-anchor=\"middle\" x=\"360.5\" y=\"-1030.8\" font-family=\"Times,serif\" font-size=\"14.00\">0.0840</text>\n<polyline fill=\"none\" stroke=\"blue\" points=\"393.5,-1016.5 393.5,-1052.5\"/>\n<text text-anchor=\"middle\" x=\"447.5\" y=\"-1030.8\" font-family=\"Times,serif\" font-size=\"14.00\">grad: 0.5710</text>\n</g>\n<!-- 14&#45;&gt;13 -->\n<g id=\"edge17\" class=\"edge\">\n<title>14&#45;&gt;13</title>\n<path fill=\"none\" stroke=\"black\" d=\"M418.93,-1016.79C427.15,-1007.6 437.47,-996.05 446.44,-986.01\"/>\n<polygon fill=\"black\" stroke=\"black\" points=\"448.82,-988.59 452.88,-978.8 443.6,-983.93 448.82,-988.59\"/>\n</g>\n<!-- 15 -->\n<g id=\"node15\" class=\"node\">\n<title>15</title>\n<ellipse fill=\"yellow\" stroke=\"blue\" cx=\"403\" cy=\"-1107\" rx=\"27\" ry=\"18\"/>\n<text text-anchor=\"middle\" x=\"403\" y=\"-1103.3\" font-family=\"Times,serif\" font-size=\"14.00\">*</text>\n</g>\n<!-- 15&#45;&gt;14 -->\n<g id=\"edge8\" class=\"edge\">\n<title>15&#45;&gt;14</title>\n<path fill=\"none\" stroke=\"black\" d=\"M403.25,-1088.57C403.35,-1081.03 403.48,-1072.02 403.6,-1063.58\"/>\n<polygon fill=\"black\" stroke=\"black\" points=\"407.1,-1063.8 403.74,-1053.75 400.1,-1063.7 407.1,-1063.8\"/>\n</g>\n<!-- 16 -->\n<g id=\"node16\" class=\"node\">\n<title>16</title>\n<polygon fill=\"none\" stroke=\"blue\" points=\"87,-1161.5 87,-1197.5 285,-1197.5 285,-1161.5 87,-1161.5\"/>\n<text text-anchor=\"middle\" x=\"99\" y=\"-1175.8\" font-family=\"Times,serif\" font-size=\"14.00\">c</text>\n<polyline fill=\"none\" stroke=\"blue\" points=\"111,-1161.5 111,-1197.5\"/>\n<text text-anchor=\"middle\" x=\"144\" y=\"-1175.8\" font-family=\"Times,serif\" font-size=\"14.00\">0.7000</text>\n<polyline fill=\"none\" stroke=\"blue\" points=\"177,-1161.5 177,-1197.5\"/>\n<text text-anchor=\"middle\" x=\"231\" y=\"-1175.8\" font-family=\"Times,serif\" font-size=\"14.00\">grad: 0.0685</text>\n</g>\n<!-- 16&#45;&gt;15 -->\n<g id=\"edge12\" class=\"edge\">\n<title>16&#45;&gt;15</title>\n<path fill=\"none\" stroke=\"black\" d=\"M238.25,-1161.52C278.54,-1148.44 333.13,-1130.7 368.21,-1119.3\"/>\n<polygon fill=\"black\" stroke=\"black\" points=\"369,-1122.73 377.43,-1116.31 366.84,-1116.07 369,-1122.73\"/>\n</g>\n<!-- 17 -->\n<g id=\"node17\" class=\"node\">\n<title>17</title>\n<ellipse fill=\"yellow\" stroke=\"blue\" cx=\"186\" cy=\"-1252\" rx=\"27\" ry=\"18\"/>\n<text text-anchor=\"middle\" x=\"186\" y=\"-1248.3\" font-family=\"Times,serif\" font-size=\"14.00\">+</text>\n</g>\n<!-- 17&#45;&gt;16 -->\n<g id=\"edge9\" class=\"edge\">\n<title>17&#45;&gt;16</title>\n<path fill=\"none\" stroke=\"black\" d=\"M186,-1233.57C186,-1226.03 186,-1217.02 186,-1208.58\"/>\n<polygon fill=\"black\" stroke=\"black\" points=\"189.5,-1208.75 186,-1198.75 182.5,-1208.75 189.5,-1208.75\"/>\n</g>\n<!-- 18 -->\n<g id=\"node18\" class=\"node\">\n<title>18</title>\n<polygon fill=\"none\" stroke=\"blue\" points=\"0,-1306.5 0,-1342.5 200,-1342.5 200,-1306.5 0,-1306.5\"/>\n<text text-anchor=\"middle\" x=\"13\" y=\"-1320.8\" font-family=\"Times,serif\" font-size=\"14.00\">b</text>\n<polyline fill=\"none\" stroke=\"blue\" points=\"26,-1306.5 26,-1342.5\"/>\n<text text-anchor=\"middle\" x=\"59\" y=\"-1320.8\" font-family=\"Times,serif\" font-size=\"14.00\">0.3000</text>\n<polyline fill=\"none\" stroke=\"blue\" points=\"92,-1306.5 92,-1342.5\"/>\n<text text-anchor=\"middle\" x=\"146\" y=\"-1320.8\" font-family=\"Times,serif\" font-size=\"14.00\">grad: 0.0685</text>\n</g>\n<!-- 18&#45;&gt;17 -->\n<g id=\"edge10\" class=\"edge\">\n<title>18&#45;&gt;17</title>\n<path fill=\"none\" stroke=\"black\" d=\"M120.38,-1306.79C132.45,-1296.9 147.85,-1284.28 160.69,-1273.75\"/>\n<polygon fill=\"black\" stroke=\"black\" points=\"162.82,-1276.52 168.34,-1267.48 158.39,-1271.11 162.82,-1276.52\"/>\n</g>\n<!-- 19 -->\n<g id=\"node19\" class=\"node\">\n<title>19</title>\n<polygon fill=\"none\" stroke=\"blue\" points=\"431.5,-1306.5 431.5,-1342.5 630.5,-1342.5 630.5,-1306.5 431.5,-1306.5\"/>\n<text text-anchor=\"middle\" x=\"444\" y=\"-1320.8\" font-family=\"Times,serif\" font-size=\"14.00\">a</text>\n<polyline fill=\"none\" stroke=\"blue\" points=\"456.5,-1306.5 456.5,-1342.5\"/>\n<text text-anchor=\"middle\" x=\"489.5\" y=\"-1320.8\" font-family=\"Times,serif\" font-size=\"14.00\">0.4000</text>\n<polyline fill=\"none\" stroke=\"blue\" points=\"522.5,-1306.5 522.5,-1342.5\"/>\n<text text-anchor=\"middle\" x=\"576.5\" y=\"-1320.8\" font-family=\"Times,serif\" font-size=\"14.00\">grad: 0.7594</text>\n</g>\n<!-- 19&#45;&gt;13 -->\n<g id=\"edge18\" class=\"edge\">\n<title>19&#45;&gt;13</title>\n<path fill=\"none\" stroke=\"black\" d=\"M531,-1306.77C531,-1280.07 531,-1226.18 531,-1180.5 531,-1180.5 531,-1180.5 531,-1106 531,-1064.93 528.07,-1052.89 510,-1016 504.74,-1005.26 496.94,-994.75 489.43,-985.96\"/>\n<polygon fill=\"black\" stroke=\"black\" points=\"492.11,-983.71 482.83,-978.61 486.9,-988.38 492.11,-983.71\"/>\n</g>\n<!-- 19&#45;&gt;17 -->\n<g id=\"edge11\" class=\"edge\">\n<title>19&#45;&gt;17</title>\n<path fill=\"none\" stroke=\"black\" d=\"M447.92,-1306.52C376.37,-1291.9 276.45,-1271.48 223.08,-1260.58\"/>\n<polygon fill=\"black\" stroke=\"black\" points=\"223.78,-1257.15 213.28,-1258.57 222.38,-1264.01 223.78,-1257.15\"/>\n</g>\n<!-- 21 -->\n<g id=\"node21\" class=\"node\">\n<title>21</title>\n<ellipse fill=\"yellow\" stroke=\"blue\" cx=\"403\" cy=\"-1252\" rx=\"27\" ry=\"18\"/>\n<text text-anchor=\"middle\" x=\"403\" y=\"-1248.3\" font-family=\"Times,serif\" font-size=\"14.00\">*</text>\n</g>\n<!-- 19&#45;&gt;21 -->\n<g id=\"edge15\" class=\"edge\">\n<title>19&#45;&gt;21</title>\n<path fill=\"none\" stroke=\"black\" d=\"M500.34,-1306.61C480.06,-1295.44 453.58,-1280.86 433.36,-1269.72\"/>\n<polygon fill=\"black\" stroke=\"black\" points=\"435.2,-1266.74 424.75,-1264.98 431.82,-1272.87 435.2,-1266.74\"/>\n</g>\n<!-- 20 -->\n<g id=\"node20\" class=\"node\">\n<title>20</title>\n<polygon fill=\"none\" stroke=\"blue\" points=\"303,-1161.5 303,-1197.5 503,-1197.5 503,-1161.5 303,-1161.5\"/>\n<text text-anchor=\"middle\" x=\"316\" y=\"-1175.8\" font-family=\"Times,serif\" font-size=\"14.00\">d</text>\n<polyline fill=\"none\" stroke=\"blue\" points=\"329,-1161.5 329,-1197.5\"/>\n<text text-anchor=\"middle\" x=\"362\" y=\"-1175.8\" font-family=\"Times,serif\" font-size=\"14.00\">0.1200</text>\n<polyline fill=\"none\" stroke=\"blue\" points=\"395,-1161.5 395,-1197.5\"/>\n<text text-anchor=\"middle\" x=\"449\" y=\"-1175.8\" font-family=\"Times,serif\" font-size=\"14.00\">grad: 0.3997</text>\n</g>\n<!-- 20&#45;&gt;15 -->\n<g id=\"edge16\" class=\"edge\">\n<title>20&#45;&gt;15</title>\n<path fill=\"none\" stroke=\"black\" d=\"M403,-1161.79C403,-1154.18 403,-1144.95 403,-1136.3\"/>\n<polygon fill=\"black\" stroke=\"black\" points=\"406.5,-1136.59 403,-1126.59 399.5,-1136.59 406.5,-1136.59\"/>\n</g>\n<!-- 21&#45;&gt;20 -->\n<g id=\"edge13\" class=\"edge\">\n<title>21&#45;&gt;20</title>\n<path fill=\"none\" stroke=\"black\" d=\"M403,-1233.57C403,-1226.03 403,-1217.02 403,-1208.58\"/>\n<polygon fill=\"black\" stroke=\"black\" points=\"406.5,-1208.75 403,-1198.75 399.5,-1208.75 406.5,-1208.75\"/>\n</g>\n<!-- 22 -->\n<g id=\"node22\" class=\"node\">\n<title>22</title>\n<polygon fill=\"none\" stroke=\"blue\" points=\"218.5,-1306.5 218.5,-1342.5 413.5,-1342.5 413.5,-1306.5 218.5,-1306.5\"/>\n<text text-anchor=\"middle\" x=\"229\" y=\"-1320.8\" font-family=\"Times,serif\" font-size=\"14.00\"> </text>\n<polyline fill=\"none\" stroke=\"blue\" points=\"239.5,-1306.5 239.5,-1342.5\"/>\n<text text-anchor=\"middle\" x=\"272.5\" y=\"-1320.8\" font-family=\"Times,serif\" font-size=\"14.00\">0.3000</text>\n<polyline fill=\"none\" stroke=\"blue\" points=\"305.5,-1306.5 305.5,-1342.5\"/>\n<text text-anchor=\"middle\" x=\"359.5\" y=\"-1320.8\" font-family=\"Times,serif\" font-size=\"14.00\">grad: 0.1599</text>\n</g>\n<!-- 22&#45;&gt;21 -->\n<g id=\"edge14\" class=\"edge\">\n<title>22&#45;&gt;21</title>\n<path fill=\"none\" stroke=\"black\" d=\"M336.62,-1306.79C348.83,-1296.9 364.4,-1284.28 377.4,-1273.75\"/>\n<polygon fill=\"black\" stroke=\"black\" points=\"379.58,-1276.49 385.14,-1267.47 375.17,-1271.05 379.58,-1276.49\"/>\n</g>\n<!-- 23 -->\n<g id=\"node23\" class=\"node\">\n<title>23</title>\n<polygon fill=\"none\" stroke=\"blue\" points=\"477.5,-726.5 477.5,-762.5 672.5,-762.5 672.5,-726.5 477.5,-726.5\"/>\n<text text-anchor=\"middle\" x=\"488\" y=\"-740.8\" font-family=\"Times,serif\" font-size=\"14.00\"> </text>\n<polyline fill=\"none\" stroke=\"blue\" points=\"498.5,-726.5 498.5,-762.5\"/>\n<text text-anchor=\"middle\" x=\"531.5\" y=\"-740.8\" font-family=\"Times,serif\" font-size=\"14.00\">2.0000</text>\n<polyline fill=\"none\" stroke=\"blue\" points=\"564.5,-726.5 564.5,-762.5\"/>\n<text text-anchor=\"middle\" x=\"618.5\" y=\"-740.8\" font-family=\"Times,serif\" font-size=\"14.00\">grad: 0.2238</text>\n</g>\n<!-- 23&#45;&gt;8 -->\n<g id=\"edge21\" class=\"edge\">\n<title>23&#45;&gt;8</title>\n<path fill=\"none\" stroke=\"black\" d=\"M549.13,-726.61C532.86,-715.99 511.85,-702.28 495.16,-691.38\"/>\n<polygon fill=\"black\" stroke=\"black\" points=\"497.45,-688.7 487.16,-686.16 493.62,-694.56 497.45,-688.7\"/>\n</g>\n<!-- 24 -->\n<g id=\"node24\" class=\"node\">\n<title>24</title>\n<polygon fill=\"none\" stroke=\"blue\" points=\"151,-436.5 151,-472.5 351,-472.5 351,-436.5 151,-436.5\"/>\n<text text-anchor=\"middle\" x=\"161.5\" y=\"-450.8\" font-family=\"Times,serif\" font-size=\"14.00\"> </text>\n<polyline fill=\"none\" stroke=\"blue\" points=\"172,-436.5 172,-472.5\"/>\n<text text-anchor=\"middle\" x=\"207.5\" y=\"-450.8\" font-family=\"Times,serif\" font-size=\"14.00\">&#45;1.0000</text>\n<polyline fill=\"none\" stroke=\"blue\" points=\"243,-436.5 243,-472.5\"/>\n<text text-anchor=\"middle\" x=\"297\" y=\"-450.8\" font-family=\"Times,serif\" font-size=\"14.00\">grad: 0.1725</text>\n</g>\n<!-- 24&#45;&gt;4 -->\n<g id=\"edge24\" class=\"edge\">\n<title>24&#45;&gt;4</title>\n<path fill=\"none\" stroke=\"black\" d=\"M261.19,-436.79C266.3,-428.42 272.59,-418.1 278.3,-408.74\"/>\n<polygon fill=\"black\" stroke=\"black\" points=\"281.17,-410.75 283.39,-400.39 275.2,-407.11 281.17,-410.75\"/>\n</g>\n<!-- 25 -->\n<g id=\"node25\" class=\"node\">\n<title>25</title>\n<polygon fill=\"none\" stroke=\"blue\" points=\"336.5,-145.5 336.5,-181.5 531.5,-181.5 531.5,-145.5 336.5,-145.5\"/>\n<text text-anchor=\"middle\" x=\"347\" y=\"-159.8\" font-family=\"Times,serif\" font-size=\"14.00\"> </text>\n<polyline fill=\"none\" stroke=\"blue\" points=\"357.5,-145.5 357.5,-181.5\"/>\n<text text-anchor=\"middle\" x=\"390.5\" y=\"-159.8\" font-family=\"Times,serif\" font-size=\"14.00\">0.1725</text>\n<polyline fill=\"none\" stroke=\"blue\" points=\"423.5,-145.5 423.5,-181.5\"/>\n<text text-anchor=\"middle\" x=\"477.5\" y=\"-159.8\" font-family=\"Times,serif\" font-size=\"14.00\">grad: 3.7970</text>\n</g>\n<!-- 25&#45;&gt;2 -->\n<g id=\"edge32\" class=\"edge\">\n<title>25&#45;&gt;2</title>\n<path fill=\"none\" stroke=\"black\" d=\"M417.88,-145.79C408.93,-136.5 397.65,-124.81 387.9,-114.71\"/>\n<polygon fill=\"black\" stroke=\"black\" points=\"390.67,-112.53 381.2,-107.76 385.63,-117.39 390.67,-112.53\"/>\n</g>\n<!-- 26 -->\n<g id=\"node26\" class=\"node\">\n<title>26</title>\n<ellipse fill=\"yellow\" stroke=\"blue\" cx=\"439\" cy=\"-236.5\" rx=\"29.8\" ry=\"18\"/>\n<text text-anchor=\"middle\" x=\"439\" y=\"-232.8\" font-family=\"Times,serif\" font-size=\"14.00\">pow</text>\n</g>\n<!-- 26&#45;&gt;25 -->\n<g id=\"edge26\" class=\"edge\">\n<title>26&#45;&gt;25</title>\n<path fill=\"none\" stroke=\"black\" d=\"M437.79,-218.31C437.24,-210.53 436.58,-201.12 435.96,-192.36\"/>\n<polygon fill=\"black\" stroke=\"black\" points=\"439.47,-192.28 435.27,-182.55 432.48,-192.77 439.47,-192.28\"/>\n</g>\n<!-- 27 -->\n<g id=\"node27\" class=\"node\">\n<title>27</title>\n<polygon fill=\"none\" stroke=\"blue\" points=\"548,-291.5 548,-327.5 748,-327.5 748,-291.5 548,-291.5\"/>\n<text text-anchor=\"middle\" x=\"558.5\" y=\"-305.8\" font-family=\"Times,serif\" font-size=\"14.00\"> </text>\n<polyline fill=\"none\" stroke=\"blue\" points=\"569,-291.5 569,-327.5\"/>\n<text text-anchor=\"middle\" x=\"602\" y=\"-305.8\" font-family=\"Times,serif\" font-size=\"14.00\">5.7970</text>\n<polyline fill=\"none\" stroke=\"blue\" points=\"635,-291.5 635,-327.5\"/>\n<text text-anchor=\"middle\" x=\"691.5\" y=\"-305.8\" font-family=\"Times,serif\" font-size=\"14.00\">grad: &#45;0.1130</text>\n</g>\n<!-- 27&#45;&gt;26 -->\n<g id=\"edge30\" class=\"edge\">\n<title>27&#45;&gt;26</title>\n<path fill=\"none\" stroke=\"black\" d=\"M598.2,-291.58C560.46,-278.76 509.44,-261.43 475.44,-249.88\"/>\n<polygon fill=\"black\" stroke=\"black\" points=\"476.63,-246.59 466.04,-246.69 474.38,-253.22 476.63,-246.59\"/>\n</g>\n<!-- 28&#45;&gt;27 -->\n<g id=\"edge27\" class=\"edge\">\n<title>28&#45;&gt;27</title>\n<path fill=\"none\" stroke=\"black\" d=\"M648,-363.57C648,-356.03 648,-347.02 648,-338.58\"/>\n<polygon fill=\"black\" stroke=\"black\" points=\"651.5,-338.75 648,-328.75 644.5,-338.75 651.5,-338.75\"/>\n</g>\n<!-- 29 -->\n<g id=\"node29\" class=\"node\">\n<title>29</title>\n<polygon fill=\"none\" stroke=\"blue\" points=\"583,-436.5 583,-472.5 783,-472.5 783,-436.5 583,-436.5\"/>\n<text text-anchor=\"middle\" x=\"593.5\" y=\"-450.8\" font-family=\"Times,serif\" font-size=\"14.00\"> </text>\n<polyline fill=\"none\" stroke=\"blue\" points=\"604,-436.5 604,-472.5\"/>\n<text text-anchor=\"middle\" x=\"637\" y=\"-450.8\" font-family=\"Times,serif\" font-size=\"14.00\">1.0000</text>\n<polyline fill=\"none\" stroke=\"blue\" points=\"670,-436.5 670,-472.5\"/>\n<text text-anchor=\"middle\" x=\"726.5\" y=\"-450.8\" font-family=\"Times,serif\" font-size=\"14.00\">grad: &#45;0.1130</text>\n</g>\n<!-- 29&#45;&gt;28 -->\n<g id=\"edge29\" class=\"edge\">\n<title>29&#45;&gt;28</title>\n<path fill=\"none\" stroke=\"black\" d=\"M674.71,-436.79C670.7,-428.71 665.78,-418.82 661.27,-409.73\"/>\n<polygon fill=\"black\" stroke=\"black\" points=\"664.49,-408.34 656.91,-400.94 658.22,-411.46 664.49,-408.34\"/>\n</g>\n<!-- 30 -->\n<g id=\"node30\" class=\"node\">\n<title>30</title>\n<polygon fill=\"none\" stroke=\"blue\" points=\"330,-291.5 330,-327.5 530,-327.5 530,-291.5 330,-291.5\"/>\n<text text-anchor=\"middle\" x=\"340.5\" y=\"-305.8\" font-family=\"Times,serif\" font-size=\"14.00\"> </text>\n<polyline fill=\"none\" stroke=\"blue\" points=\"351,-291.5 351,-327.5\"/>\n<text text-anchor=\"middle\" x=\"386.5\" y=\"-305.8\" font-family=\"Times,serif\" font-size=\"14.00\">&#45;1.0000</text>\n<polyline fill=\"none\" stroke=\"blue\" points=\"422,-291.5 422,-327.5\"/>\n<text text-anchor=\"middle\" x=\"476\" y=\"-305.8\" font-family=\"Times,serif\" font-size=\"14.00\">grad: 1.1511</text>\n</g>\n<!-- 30&#45;&gt;26 -->\n<g id=\"edge31\" class=\"edge\">\n<title>30&#45;&gt;26</title>\n<path fill=\"none\" stroke=\"black\" d=\"M432.13,-291.67C433.1,-284.06 434.27,-274.85 435.36,-266.2\"/>\n<polygon fill=\"black\" stroke=\"black\" points=\"438.81,-266.81 436.6,-256.45 431.87,-265.93 438.81,-266.81\"/>\n</g>\n</g>\n</svg>\n",
      "text/plain": [
       "<graphviz.graphs.Digraph at 0x7f0d66b6acb0>"
      ]
     },
     "execution_count": 244,
     "metadata": {},
     "output_type": "execute_result"
    }
   ],
   "source": [
    "a = Value(.4, label='a')\n",
    "b = Value(.3 , label='b')\n",
    "c = a + b; c.label = 'c'\n",
    "d = a * .3; d.label = 'd'\n",
    "e = c * d + a + .3; e.label = 'e'\n",
    "f = e.tanh(); f.label = 'f'\n",
    "# f = e.ptanh(); f.label = 'f'\n",
    "\n",
    "# print(e._children)\n",
    "# print((a*a)._children)\n",
    "\n",
    "\n",
    "f.zero_back()\n",
    "f.backward()\n",
    "graph_value(f)"
   ]
  },
  {
   "cell_type": "code",
   "execution_count": 5,
   "metadata": {},
   "outputs": [
    {
     "data": {
      "text/plain": [
       "[<matplotlib.lines.Line2D at 0x7f0d68fa4880>]"
      ]
     },
     "execution_count": 5,
     "metadata": {},
     "output_type": "execute_result"
    },
    {
     "data": {
      "image/png": "[encoded data removed]",
      "text/plain": [
       "<Figure size 640x480 with 1 Axes>"
      ]
     },
     "metadata": {},
     "output_type": "display_data"
    }
   ],
   "source": [
    "def f(x):\n",
    "    return 3 * x** 2 - 4 * x + 5\n",
    "xs = np.arange(-5, 5, .25)\n",
    "ys = f(xs)\n",
    "\n",
    "plt.plot(xs, ys)\n"
   ]
  },
  {
   "cell_type": "markdown",
   "metadata": {},
   "source": [
    "# Derivatives\n",
    "\n",
    "Given the following definition of a derivative for $f(x)$ <br>\n",
    "${{df}\\over{dx}}=\\lim\\limits_{h \\to 0}{{f(x + h) - f(x)}\\over{h}}$\n",
    "\n",
    "We can now define a derivative for the following operations\n",
    "\n",
    "* $f(g, k) = g * k$ <br>\n",
    "$\\implies {df\\over dg} = \\lim\\limits_{h\\to0}{((g+h) * k) - (g * k) \\over h}$ <br>\n",
    "$\\implies {df\\over dg} = \\lim\\limits_{h\\to0}{(g* k) - (g * k) + (h*k) \\over h}$ <br>\n",
    "$\\implies {df\\over dg} = k $ <br>\n",
    "$\\Box$\n",
    "\n",
    "* $f(g,k) = g + k$ <br>\n",
    "$\\implies {df\\over dg} = \\lim\\limits_{h\\to0}{((g+h) + k) - (g + k) \\over h}$ <br>\n",
    "$\\implies {df\\over dg} = \\lim\\limits_{h\\to0}{(g - g) +  (k - k) + h\\over h}$ <br>\n",
    "$\\implies {df\\over dg} = 1 $ <br>\n",
    "$\\Box$\n",
    "\n",
    "\n",
    "* $f(g,k) = g^k$ <br>\n",
    "\n",
    "$\\implies {df\\over dg} = \\lim\\limits_{h\\to0}{((g+h)^k) - (g^k) \\over h}$ <br>"
   ]
  }
 ],
 "metadata": {
  "kernelspec": {
   "display_name": "Python 3.10.8 ('.venv': venv)",
   "language": "python",
   "name": "python3"
  },
  "language_info": {
   "codemirror_mode": {
    "name": "ipython",
    "version": 3
   },
   "file_extension": ".py",
   "mimetype": "text/x-python",
   "name": "python",
   "nbconvert_exporter": "python",
   "pygments_lexer": "ipython3",
   "version": "3.10.8"
  },
  "orig_nbformat": 4,
  "vscode": {
   "interpreter": {
    "hash": "cfbabccf354ca50cf93cbee48f20d4c72f7b248248886686523a78f039fb73b9"
   }
  }
 },
 "nbformat": 4,
 "nbformat_minor": 2
}
