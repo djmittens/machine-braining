{
 "cells": [
  {
   "cell_type": "markdown",
   "metadata": {},
   "source": [
    "# Micrograd\n",
    "So this guy is where we build a neural net from scratch.\n",
    "We literally will make one, and perform back propagation by deriving some of the math\n"
   ]
  },
  {
   "cell_type": "code",
   "execution_count": 1,
   "metadata": {},
   "outputs": [],
   "source": [
    "import numpy as np\n",
    "import graphviz as gz\n",
    "import matplotlib.pyplot as plt\n",
    "import math\n",
    "import random\n",
    "\n",
    "%matplotlib inline\n"
   ]
  },
  {
   "cell_type": "markdown",
   "metadata": {},
   "source": [
    "## Constructing ADT\n",
    "Here we setup the initial ADT for discrete integer boxing, which will allow us to build a graph of operations that will eventually be topologically sorted to perform back propogation.\n",
    "* One thing that i want to learn to do is write math formulas inline in markdown.  Please papa Andrej do this in the future."
   ]
  },
  {
   "cell_type": "code",
   "execution_count": 2,
   "metadata": {},
   "outputs": [],
   "source": [
    "class Value:\n",
    "    def __init__(self, data, _children=(), _op=None, label=''):\n",
    "        self._topo = None\n",
    "        self.data = data\n",
    "        self.label = label\n",
    "        self._grad = 0.0\n",
    "        self._children = set(_children)\n",
    "        self._op = _op\n",
    "        self._back = lambda: None\n",
    "    def __repr__(self) -> str:\n",
    "        if self._op == None:\n",
    "            return f\"Value({self.label}: {self.data: .4f})\"\n",
    "        else:\n",
    "            return f\"Value({self.label}: {self.data: .4f} = ({self._op} {[c.data for c in self._children]}))\"\n",
    "\n",
    "    def __add__(self, o) -> 'Value':\n",
    "        o = o if isinstance(o, Value) else Value(o)\n",
    "        out = Value(self.data + o.data, (self, o), '+')\n",
    "        def _back():\n",
    "            self._grad += 1.0 * out._grad\n",
    "            o._grad += 1.0 * out._grad\n",
    "        out._back = _back\n",
    "        return out\n",
    "\n",
    "\n",
    "    def __mul__(self, o) -> 'Value':\n",
    "        o = o if isinstance(o, Value) else Value(o)\n",
    "        out = Value(self.data * o.data, (self, o), '*')\n",
    "        def _back():\n",
    "            self._grad += o.data * out._grad\n",
    "            o._grad += self.data * out._grad\n",
    "        out._back = _back\n",
    "        return out\n",
    "\n",
    "    def __pow__(self, o) -> 'Value':\n",
    "        o = o if isinstance(o, Value) else Value(o)\n",
    "        out = Value(self.data ** o.data, (self, o), 'pow')\n",
    "        def _back():\n",
    "            self._grad += (o.data * self.data ** (o.data  - 1)) * out._grad\n",
    "            # o._grad += math.log(self.data) * out.data * out._grad this is disabled because of math domain error\n",
    "            # turns outs log is not valid for negative numbers here, which is a giant bummer\n",
    "        out._back = _back\n",
    "        return out\n",
    "\n",
    "    def exp(self) -> 'Value':\n",
    "        # f = e^x\n",
    "        # df/dx = f\n",
    "        out = Value(math.exp(self.data), (self,), 'exp')\n",
    "        def back():\n",
    "            self._grad += out.data * out._grad\n",
    "        out._back = back\n",
    "        return out\n",
    "\n",
    "    def __sub__(self, o) -> 'Value':\n",
    "        out = self + (o * -1) \n",
    "        return out\n",
    "    \n",
    "    # a / b => a * (1/b) => a * b^-1\n",
    "    def __truediv__(self, o) -> 'Value':\n",
    "        o = o if isinstance(o, Value) else Value(o)\n",
    "        out = self * (o ** (-1))\n",
    "        return out\n",
    "        \n",
    "    \n",
    "    def tanh(self) -> 'Value':\n",
    "        t = (2 * self).exp()\n",
    "        tanh = (t - 1) / (t + 1)\n",
    "        return tanh\n",
    "\n",
    "    # i expanded the implementation\n",
    "    # def ptanh(self) -> 'Value':\n",
    "    #     t = math.exp(2 * self.data)\n",
    "    #     tanh = (t - 1) / (t + 1)\n",
    "    #     out = Value(tanh, (self,), 'tanh')\n",
    "    #     def _back():\n",
    "    #         self._grad += (1 - tanh**2) * out._grad\n",
    "    #     out._back = _back\n",
    "    #     return out\n",
    "    \n",
    "\n",
    "    def backward(self):\n",
    "        if self._topo == None:\n",
    "            topo = []\n",
    "            visited = set()\n",
    "            # Topological sort\n",
    "            def sort(v):\n",
    "                if v not in visited:\n",
    "                    visited.add(v)\n",
    "                    for c in v._children:\n",
    "                        sort(c)\n",
    "                    topo.append(v)\n",
    "            sort(self)\n",
    "            self._topo = list(reversed(topo))\n",
    "        self._grad = 1.\n",
    "        for n in self._topo:\n",
    "            n._back()\n",
    "\n",
    "    def zero_grad(self):\n",
    "        self._grad = 0;\n",
    "        q = [self]\n",
    "        while len(q) > 0:\n",
    "            n = q.pop(0)\n",
    "            n._grad = 0.0\n",
    "            q.extend(n._children)\n",
    "\n",
    "    \n",
    "    def __radd__(self, o) -> 'Value':\n",
    "        return self + o\n",
    "    def __rsub__(self, o) -> 'Value':\n",
    "        return self - o\n",
    "    def __rmul__(self, o) -> 'Value':\n",
    "        return self * o\n",
    "    def __rtruediv__(self, o) -> 'Value':\n",
    "        return self / 0\n"
   ]
  },
  {
   "cell_type": "markdown",
   "metadata": {},
   "source": [
    "## Graphing the graph\n",
    "Lets plot this sucker using graphviz. Turns out the api is pretty easy to use. We can use recursion to build up our nodes in BFS order."
   ]
  },
  {
   "cell_type": "code",
   "execution_count": 3,
   "metadata": {},
   "outputs": [],
   "source": [
    "def graph_value(v: Value):\n",
    "    visited = {}\n",
    "    g = gz.Digraph('G', node_attr={'shape': 'record', 'color': 'blue'}, edge_attr={}, graph_attr={'rankdir': 'LR'})\n",
    "    def ns(n: int, v : Value) -> str:\n",
    "        g.node(str(n), f'{v.label}|{v.data : .4f}|grad: {v._grad: .4f}')\n",
    "        if v._op is not None:\n",
    "            n += 1\n",
    "            g.node(str(n), v._op, shape='ellipse', style='filled', fillcolor='yellow')\n",
    "            g.edge(str(n), str(n-1))\n",
    "        n0 = n\n",
    "        for v in v._children:\n",
    "            assert(isinstance(n, int))\n",
    "            if v not in visited:\n",
    "                n0 =  n0 + 1\n",
    "                n2 = ns(n0, v)\n",
    "                g.edge(str(n0), str(n))\n",
    "                visited[v] = str(n0)\n",
    "                n0 = n2\n",
    "            else:\n",
    "                g.edge(visited[v], str(n))\n",
    "        return n0\n",
    "    ns(1,v)\n",
    "    return g\n"
   ]
  },
  {
   "cell_type": "markdown",
   "metadata": {},
   "source": [
    "# Derivatives\n",
    "\n",
    "Given the following definition of a derivative for $f(x)$ <br>\n",
    "${{df}\\over{dx}}=\\lim\\limits_{h \\to 0}{{f(x + h) - f(x)}\\over{h}}$\n",
    "\n",
    "We can now define a derivative for the following operations\n",
    "\n",
    "* $f(g, k) = g * k$ <br>\n",
    "$\\implies {df\\over dg} = \\lim\\limits_{h\\to0}{((g+h) * k) - (g * k) \\over h}$ <br>\n",
    "$\\implies {df\\over dg} = \\lim\\limits_{h\\to0}{(g* k) - (g * k) + (h*k) \\over h}$ <br>\n",
    "$\\implies {df\\over dg} = k $ <br>\n",
    "$\\Box$\n",
    "\n",
    "* $f(g,k) = g + k$ <br>\n",
    "$\\implies {df\\over dg} = \\lim\\limits_{h\\to0}{((g+h) + k) - (g + k) \\over h}$ <br>\n",
    "$\\implies {df\\over dg} = \\lim\\limits_{h\\to0}{(g - g) +  (k - k) + h\\over h}$ <br>\n",
    "$\\implies {df\\over dg} = 1 $ <br>\n",
    "$\\Box$\n",
    "\n",
    "\n",
    "* $f(g,k) = g^k$ <br>\n",
    "\n",
    "$\\implies {df\\over dg} = \\lim\\limits_{h\\to0}{((g+h)^k) - (g^k) \\over h}$ <br>"
   ]
  },
  {
   "cell_type": "code",
   "execution_count": 4,
   "metadata": {},
   "outputs": [
    {
     "data": {
      "text/plain": [
       "[<matplotlib.lines.Line2D at 0x7fce2d4e1360>]"
      ]
     },
     "execution_count": 4,
     "metadata": {},
     "output_type": "execute_result"
    },
    {
     "data": {
      "image/png": "[encoded data removed]",
      "text/plain": [
       "<Figure size 640x480 with 1 Axes>"
      ]
     },
     "metadata": {},
     "output_type": "display_data"
    }
   ],
   "source": [
    "def f(x):\n",
    "    return 3 * x** 2 - 4 * x + 5\n",
    "xs = np.arange(-5, 5, .25)\n",
    "ys = f(xs)\n",
    "\n",
    "plt.plot(xs, ys)\n"
   ]
  },
  {
   "cell_type": "code",
   "execution_count": 5,
   "metadata": {},
   "outputs": [
    {
     "data": {
      "image/svg+xml": "<?xml version=\"1.0\" encoding=\"UTF-8\" standalone=\"no\"?>\n<!DOCTYPE svg PUBLIC \"-//W3C//DTD SVG 1.1//EN\"\n \"http://www.w3.org/Graphics/SVG/1.1/DTD/svg11.dtd\">\n<!-- Generated by graphviz version 7.0.1 (0)\n -->\n<!-- Title: G Pages: 1 -->\n<svg width=\"2287pt\" height=\"399pt\"\n viewBox=\"0.00 0.00 2286.60 399.00\" xmlns=\"http://www.w3.org/2000/svg\" xmlns:xlink=\"http://www.w3.org/1999/xlink\">\n<g id=\"graph0\" class=\"graph\" transform=\"scale(1 1) rotate(0) translate(4 395)\">\n<title>G</title>\n<polygon fill=\"white\" stroke=\"none\" points=\"-4,4 -4,-395 2282.6,-395 2282.6,4 -4,4\"/>\n<!-- 1 -->\n<g id=\"node1\" class=\"node\">\n<title>1</title>\n<polygon fill=\"none\" stroke=\"blue\" points=\"2170.6,-129.5 2170.6,-198.5 2278.6,-198.5 2278.6,-129.5 2170.6,-129.5\"/>\n<text text-anchor=\"middle\" x=\"2224.6\" y=\"-183.3\" font-family=\"Times,serif\" font-size=\"14.00\">f</text>\n<polyline fill=\"none\" stroke=\"blue\" points=\"2170.6,-175.5 2278.6,-175.5\"/>\n<text text-anchor=\"middle\" x=\"2224.6\" y=\"-160.3\" font-family=\"Times,serif\" font-size=\"14.00\">0.6550</text>\n<polyline fill=\"none\" stroke=\"blue\" points=\"2170.6,-152.5 2278.6,-152.5\"/>\n<text text-anchor=\"middle\" x=\"2224.6\" y=\"-137.3\" font-family=\"Times,serif\" font-size=\"14.00\">grad: 1.0000</text>\n</g>\n<!-- 2 -->\n<g id=\"node2\" class=\"node\">\n<title>2</title>\n<ellipse fill=\"yellow\" stroke=\"blue\" cx=\"2107.6\" cy=\"-164\" rx=\"27\" ry=\"18\"/>\n<text text-anchor=\"middle\" x=\"2107.6\" y=\"-160.3\" font-family=\"Times,serif\" font-size=\"14.00\">*</text>\n</g>\n<!-- 2&#45;&gt;1 -->\n<g id=\"edge1\" class=\"edge\">\n<title>2&#45;&gt;1</title>\n<path fill=\"none\" stroke=\"black\" d=\"M2134.98,-164C2142.45,-164 2150.92,-164 2159.59,-164\"/>\n<polygon fill=\"black\" stroke=\"black\" points=\"2159.53,-167.5 2169.53,-164 2159.53,-160.5 2159.53,-167.5\"/>\n</g>\n<!-- 3 -->\n<g id=\"node3\" class=\"node\">\n<title>3</title>\n<polygon fill=\"none\" stroke=\"blue\" points=\"1792.6,-165.5 1792.6,-234.5 1900.6,-234.5 1900.6,-165.5 1792.6,-165.5\"/>\n<text text-anchor=\"middle\" x=\"1846.6\" y=\"-219.3\" font-family=\"Times,serif\" font-size=\"14.00\"> </text>\n<polyline fill=\"none\" stroke=\"blue\" points=\"1792.6,-211.5 1900.6,-211.5\"/>\n<text text-anchor=\"middle\" x=\"1846.6\" y=\"-196.3\" font-family=\"Times,serif\" font-size=\"14.00\">3.7970</text>\n<polyline fill=\"none\" stroke=\"blue\" points=\"1792.6,-188.5 1900.6,-188.5\"/>\n<text text-anchor=\"middle\" x=\"1846.6\" y=\"-173.3\" font-family=\"Times,serif\" font-size=\"14.00\">grad: 0.1725</text>\n</g>\n<!-- 3&#45;&gt;2 -->\n<g id=\"edge25\" class=\"edge\">\n<title>3&#45;&gt;2</title>\n<path fill=\"none\" stroke=\"black\" d=\"M1900.45,-195.14C1940.22,-191.16 1996,-184.92 2044.6,-177 2053.03,-175.63 2062.05,-173.89 2070.53,-172.14\"/>\n<polygon fill=\"black\" stroke=\"black\" points=\"2071.12,-175.59 2080.17,-170.08 2069.66,-168.74 2071.12,-175.59\"/>\n</g>\n<!-- 4 -->\n<g id=\"node4\" class=\"node\">\n<title>4</title>\n<ellipse fill=\"yellow\" stroke=\"blue\" cx=\"1580.6\" cy=\"-200\" rx=\"27\" ry=\"18\"/>\n<text text-anchor=\"middle\" x=\"1580.6\" y=\"-196.3\" font-family=\"Times,serif\" font-size=\"14.00\">+</text>\n</g>\n<!-- 4&#45;&gt;3 -->\n<g id=\"edge2\" class=\"edge\">\n<title>4&#45;&gt;3</title>\n<path fill=\"none\" stroke=\"black\" d=\"M1607.87,-200C1648.02,-200 1725.81,-200 1781.47,-200\"/>\n<polygon fill=\"black\" stroke=\"black\" points=\"1781.13,-203.5 1791.13,-200 1781.13,-196.5 1781.13,-203.5\"/>\n</g>\n<!-- 5 -->\n<g id=\"node5\" class=\"node\">\n<title>5</title>\n<polygon fill=\"none\" stroke=\"blue\" points=\"1407.1,-88.5 1407.1,-157.5 1515.1,-157.5 1515.1,-88.5 1407.1,-88.5\"/>\n<text text-anchor=\"middle\" x=\"1461.1\" y=\"-142.3\" font-family=\"Times,serif\" font-size=\"14.00\"> </text>\n<polyline fill=\"none\" stroke=\"blue\" points=\"1407.1,-134.5 1515.1,-134.5\"/>\n<text text-anchor=\"middle\" x=\"1461.1\" y=\"-119.3\" font-family=\"Times,serif\" font-size=\"14.00\">4.7970</text>\n<polyline fill=\"none\" stroke=\"blue\" points=\"1407.1,-111.5 1515.1,-111.5\"/>\n<text text-anchor=\"middle\" x=\"1461.1\" y=\"-96.3\" font-family=\"Times,serif\" font-size=\"14.00\">grad: 0.0595</text>\n</g>\n<!-- 5&#45;&gt;4 -->\n<g id=\"edge23\" class=\"edge\">\n<title>5&#45;&gt;4</title>\n<path fill=\"none\" stroke=\"black\" d=\"M1514.66,-157.45C1527.2,-165.66 1540.11,-174.13 1551.09,-181.32\"/>\n<polygon fill=\"black\" stroke=\"black\" points=\"1549.02,-184.15 1559.3,-186.7 1552.85,-178.29 1549.02,-184.15\"/>\n</g>\n<!-- 28 -->\n<g id=\"node28\" class=\"node\">\n<title>28</title>\n<ellipse fill=\"yellow\" stroke=\"blue\" cx=\"1580.6\" cy=\"-45\" rx=\"27\" ry=\"18\"/>\n<text text-anchor=\"middle\" x=\"1580.6\" y=\"-41.3\" font-family=\"Times,serif\" font-size=\"14.00\">+</text>\n</g>\n<!-- 5&#45;&gt;28 -->\n<g id=\"edge28\" class=\"edge\">\n<title>5&#45;&gt;28</title>\n<path fill=\"none\" stroke=\"black\" d=\"M1513.97,-88.56C1526.81,-80.04 1540.09,-71.22 1551.32,-63.77\"/>\n<polygon fill=\"black\" stroke=\"black\" points=\"1552.94,-66.89 1559.34,-58.45 1549.07,-61.06 1552.94,-66.89\"/>\n</g>\n<!-- 6 -->\n<g id=\"node6\" class=\"node\">\n<title>6</title>\n<ellipse fill=\"yellow\" stroke=\"blue\" cx=\"1341.3\" cy=\"-123\" rx=\"27.1\" ry=\"18\"/>\n<text text-anchor=\"middle\" x=\"1341.3\" y=\"-119.3\" font-family=\"Times,serif\" font-size=\"14.00\">exp</text>\n</g>\n<!-- 6&#45;&gt;5 -->\n<g id=\"edge3\" class=\"edge\">\n<title>6&#45;&gt;5</title>\n<path fill=\"none\" stroke=\"black\" d=\"M1368.73,-123C1376.92,-123 1386.33,-123 1395.93,-123\"/>\n<polygon fill=\"black\" stroke=\"black\" points=\"1395.71,-126.5 1405.71,-123 1395.71,-119.5 1395.71,-126.5\"/>\n</g>\n<!-- 7 -->\n<g id=\"node7\" class=\"node\">\n<title>7</title>\n<polygon fill=\"none\" stroke=\"blue\" points=\"1170,-88.5 1170,-157.5 1278,-157.5 1278,-88.5 1170,-88.5\"/>\n<text text-anchor=\"middle\" x=\"1224\" y=\"-142.3\" font-family=\"Times,serif\" font-size=\"14.00\"> </text>\n<polyline fill=\"none\" stroke=\"blue\" points=\"1170,-134.5 1278,-134.5\"/>\n<text text-anchor=\"middle\" x=\"1224\" y=\"-119.3\" font-family=\"Times,serif\" font-size=\"14.00\">1.5680</text>\n<polyline fill=\"none\" stroke=\"blue\" points=\"1170,-111.5 1278,-111.5\"/>\n<text text-anchor=\"middle\" x=\"1224\" y=\"-96.3\" font-family=\"Times,serif\" font-size=\"14.00\">grad: 0.2855</text>\n</g>\n<!-- 7&#45;&gt;6 -->\n<g id=\"edge22\" class=\"edge\">\n<title>7&#45;&gt;6</title>\n<path fill=\"none\" stroke=\"black\" d=\"M1277.92,-123C1286.18,-123 1294.57,-123 1302.4,-123\"/>\n<polygon fill=\"black\" stroke=\"black\" points=\"1302.26,-126.5 1312.26,-123 1302.26,-119.5 1302.26,-126.5\"/>\n</g>\n<!-- 8 -->\n<g id=\"node8\" class=\"node\">\n<title>8</title>\n<ellipse fill=\"yellow\" stroke=\"blue\" cx=\"1107\" cy=\"-123\" rx=\"27\" ry=\"18\"/>\n<text text-anchor=\"middle\" x=\"1107\" y=\"-119.3\" font-family=\"Times,serif\" font-size=\"14.00\">*</text>\n</g>\n<!-- 8&#45;&gt;7 -->\n<g id=\"edge4\" class=\"edge\">\n<title>8&#45;&gt;7</title>\n<path fill=\"none\" stroke=\"black\" d=\"M1134.38,-123C1141.85,-123 1150.32,-123 1159,-123\"/>\n<polygon fill=\"black\" stroke=\"black\" points=\"1158.93,-126.5 1168.93,-123 1158.93,-119.5 1158.93,-126.5\"/>\n</g>\n<!-- 9 -->\n<g id=\"node9\" class=\"node\">\n<title>9</title>\n<polygon fill=\"none\" stroke=\"blue\" points=\"936,-132.5 936,-201.5 1044,-201.5 1044,-132.5 936,-132.5\"/>\n<text text-anchor=\"middle\" x=\"990\" y=\"-186.3\" font-family=\"Times,serif\" font-size=\"14.00\">e</text>\n<polyline fill=\"none\" stroke=\"blue\" points=\"936,-178.5 1044,-178.5\"/>\n<text text-anchor=\"middle\" x=\"990\" y=\"-163.3\" font-family=\"Times,serif\" font-size=\"14.00\">0.7840</text>\n<polyline fill=\"none\" stroke=\"blue\" points=\"936,-155.5 1044,-155.5\"/>\n<text text-anchor=\"middle\" x=\"990\" y=\"-140.3\" font-family=\"Times,serif\" font-size=\"14.00\">grad: 0.5710</text>\n</g>\n<!-- 9&#45;&gt;8 -->\n<g id=\"edge20\" class=\"edge\">\n<title>9&#45;&gt;8</title>\n<path fill=\"none\" stroke=\"black\" d=\"M1043.79,-146.8C1053.61,-143.04 1063.62,-139.22 1072.65,-135.76\"/>\n<polygon fill=\"black\" stroke=\"black\" points=\"1073.61,-139.14 1081.7,-132.3 1071.11,-132.6 1073.61,-139.14\"/>\n</g>\n<!-- 10 -->\n<g id=\"node10\" class=\"node\">\n<title>10</title>\n<ellipse fill=\"yellow\" stroke=\"blue\" cx=\"873\" cy=\"-167\" rx=\"27\" ry=\"18\"/>\n<text text-anchor=\"middle\" x=\"873\" y=\"-163.3\" font-family=\"Times,serif\" font-size=\"14.00\">+</text>\n</g>\n<!-- 10&#45;&gt;9 -->\n<g id=\"edge5\" class=\"edge\">\n<title>10&#45;&gt;9</title>\n<path fill=\"none\" stroke=\"black\" d=\"M900.38,-167C907.85,-167 916.32,-167 925,-167\"/>\n<polygon fill=\"black\" stroke=\"black\" points=\"924.93,-170.5 934.93,-167 924.93,-163.5 924.93,-170.5\"/>\n</g>\n<!-- 11 -->\n<g id=\"node11\" class=\"node\">\n<title>11</title>\n<polygon fill=\"none\" stroke=\"blue\" points=\"702,-176.5 702,-245.5 810,-245.5 810,-176.5 702,-176.5\"/>\n<text text-anchor=\"middle\" x=\"756\" y=\"-230.3\" font-family=\"Times,serif\" font-size=\"14.00\"> </text>\n<polyline fill=\"none\" stroke=\"blue\" points=\"702,-222.5 810,-222.5\"/>\n<text text-anchor=\"middle\" x=\"756\" y=\"-207.3\" font-family=\"Times,serif\" font-size=\"14.00\">0.4840</text>\n<polyline fill=\"none\" stroke=\"blue\" points=\"702,-199.5 810,-199.5\"/>\n<text text-anchor=\"middle\" x=\"756\" y=\"-184.3\" font-family=\"Times,serif\" font-size=\"14.00\">grad: 0.5710</text>\n</g>\n<!-- 11&#45;&gt;10 -->\n<g id=\"edge18\" class=\"edge\">\n<title>11&#45;&gt;10</title>\n<path fill=\"none\" stroke=\"black\" d=\"M809.79,-190.8C819.61,-187.04 829.62,-183.22 838.65,-179.76\"/>\n<polygon fill=\"black\" stroke=\"black\" points=\"839.61,-183.14 847.7,-176.3 837.11,-176.6 839.61,-183.14\"/>\n</g>\n<!-- 12 -->\n<g id=\"node12\" class=\"node\">\n<title>12</title>\n<ellipse fill=\"yellow\" stroke=\"blue\" cx=\"639\" cy=\"-211\" rx=\"27\" ry=\"18\"/>\n<text text-anchor=\"middle\" x=\"639\" y=\"-207.3\" font-family=\"Times,serif\" font-size=\"14.00\">+</text>\n</g>\n<!-- 12&#45;&gt;11 -->\n<g id=\"edge6\" class=\"edge\">\n<title>12&#45;&gt;11</title>\n<path fill=\"none\" stroke=\"black\" d=\"M666.38,-211C673.85,-211 682.32,-211 691,-211\"/>\n<polygon fill=\"black\" stroke=\"black\" points=\"690.93,-214.5 700.93,-211 690.93,-207.5 690.93,-214.5\"/>\n</g>\n<!-- 13 -->\n<g id=\"node13\" class=\"node\">\n<title>13</title>\n<polygon fill=\"none\" stroke=\"blue\" points=\"468,-208.5 468,-277.5 576,-277.5 576,-208.5 468,-208.5\"/>\n<text text-anchor=\"middle\" x=\"522\" y=\"-262.3\" font-family=\"Times,serif\" font-size=\"14.00\"> </text>\n<polyline fill=\"none\" stroke=\"blue\" points=\"468,-254.5 576,-254.5\"/>\n<text text-anchor=\"middle\" x=\"522\" y=\"-239.3\" font-family=\"Times,serif\" font-size=\"14.00\">0.0840</text>\n<polyline fill=\"none\" stroke=\"blue\" points=\"468,-231.5 576,-231.5\"/>\n<text text-anchor=\"middle\" x=\"522\" y=\"-216.3\" font-family=\"Times,serif\" font-size=\"14.00\">grad: 0.5710</text>\n</g>\n<!-- 13&#45;&gt;12 -->\n<g id=\"edge16\" class=\"edge\">\n<title>13&#45;&gt;12</title>\n<path fill=\"none\" stroke=\"black\" d=\"M575.79,-228.31C584.88,-225.78 594.13,-223.21 602.62,-220.84\"/>\n<polygon fill=\"black\" stroke=\"black\" points=\"603.49,-224.24 612.19,-218.18 601.62,-217.49 603.49,-224.24\"/>\n</g>\n<!-- 14 -->\n<g id=\"node14\" class=\"node\">\n<title>14</title>\n<ellipse fill=\"yellow\" stroke=\"blue\" cx=\"405\" cy=\"-243\" rx=\"27\" ry=\"18\"/>\n<text text-anchor=\"middle\" x=\"405\" y=\"-239.3\" font-family=\"Times,serif\" font-size=\"14.00\">*</text>\n</g>\n<!-- 14&#45;&gt;13 -->\n<g id=\"edge7\" class=\"edge\">\n<title>14&#45;&gt;13</title>\n<path fill=\"none\" stroke=\"black\" d=\"M432.38,-243C439.85,-243 448.32,-243 457,-243\"/>\n<polygon fill=\"black\" stroke=\"black\" points=\"456.93,-246.5 466.93,-243 456.93,-239.5 456.93,-246.5\"/>\n</g>\n<!-- 15 -->\n<g id=\"node15\" class=\"node\">\n<title>15</title>\n<polygon fill=\"none\" stroke=\"blue\" points=\"234,-208.5 234,-277.5 342,-277.5 342,-208.5 234,-208.5\"/>\n<text text-anchor=\"middle\" x=\"288\" y=\"-262.3\" font-family=\"Times,serif\" font-size=\"14.00\">c</text>\n<polyline fill=\"none\" stroke=\"blue\" points=\"234,-254.5 342,-254.5\"/>\n<text text-anchor=\"middle\" x=\"288\" y=\"-239.3\" font-family=\"Times,serif\" font-size=\"14.00\">0.7000</text>\n<polyline fill=\"none\" stroke=\"blue\" points=\"234,-231.5 342,-231.5\"/>\n<text text-anchor=\"middle\" x=\"288\" y=\"-216.3\" font-family=\"Times,serif\" font-size=\"14.00\">grad: 0.0685</text>\n</g>\n<!-- 15&#45;&gt;14 -->\n<g id=\"edge11\" class=\"edge\">\n<title>15&#45;&gt;14</title>\n<path fill=\"none\" stroke=\"black\" d=\"M341.79,-243C350.02,-243 358.39,-243 366.2,-243\"/>\n<polygon fill=\"black\" stroke=\"black\" points=\"366.03,-246.5 376.03,-243 366.03,-239.5 366.03,-246.5\"/>\n</g>\n<!-- 16 -->\n<g id=\"node16\" class=\"node\">\n<title>16</title>\n<ellipse fill=\"yellow\" stroke=\"blue\" cx=\"171\" cy=\"-243\" rx=\"27\" ry=\"18\"/>\n<text text-anchor=\"middle\" x=\"171\" y=\"-239.3\" font-family=\"Times,serif\" font-size=\"14.00\">+</text>\n</g>\n<!-- 16&#45;&gt;15 -->\n<g id=\"edge8\" class=\"edge\">\n<title>16&#45;&gt;15</title>\n<path fill=\"none\" stroke=\"black\" d=\"M198.38,-243C205.85,-243 214.32,-243 223,-243\"/>\n<polygon fill=\"black\" stroke=\"black\" points=\"222.93,-246.5 232.93,-243 222.93,-239.5 222.93,-246.5\"/>\n</g>\n<!-- 17 -->\n<g id=\"node17\" class=\"node\">\n<title>17</title>\n<polygon fill=\"none\" stroke=\"blue\" points=\"0,-145.5 0,-214.5 108,-214.5 108,-145.5 0,-145.5\"/>\n<text text-anchor=\"middle\" x=\"54\" y=\"-199.3\" font-family=\"Times,serif\" font-size=\"14.00\">a</text>\n<polyline fill=\"none\" stroke=\"blue\" points=\"0,-191.5 108,-191.5\"/>\n<text text-anchor=\"middle\" x=\"54\" y=\"-176.3\" font-family=\"Times,serif\" font-size=\"14.00\">0.4000</text>\n<polyline fill=\"none\" stroke=\"blue\" points=\"0,-168.5 108,-168.5\"/>\n<text text-anchor=\"middle\" x=\"54\" y=\"-153.3\" font-family=\"Times,serif\" font-size=\"14.00\">grad: 0.7594</text>\n</g>\n<!-- 17&#45;&gt;12 -->\n<g id=\"edge17\" class=\"edge\">\n<title>17&#45;&gt;12</title>\n<path fill=\"none\" stroke=\"black\" d=\"M107.98,-180C155.01,-180 225.58,-180 287,-180 287,-180 287,-180 406,-180 475.9,-180 556.62,-194 602.05,-203.18\"/>\n<polygon fill=\"black\" stroke=\"black\" points=\"601.1,-206.56 611.6,-205.15 602.52,-199.7 601.1,-206.56\"/>\n</g>\n<!-- 17&#45;&gt;16 -->\n<g id=\"edge9\" class=\"edge\">\n<title>17&#45;&gt;16</title>\n<path fill=\"none\" stroke=\"black\" d=\"M107.79,-208.92C118.63,-214.86 129.69,-220.92 139.43,-226.25\"/>\n<polygon fill=\"black\" stroke=\"black\" points=\"137.62,-229.25 148.07,-230.99 140.98,-223.11 137.62,-229.25\"/>\n</g>\n<!-- 20 -->\n<g id=\"node20\" class=\"node\">\n<title>20</title>\n<ellipse fill=\"yellow\" stroke=\"blue\" cx=\"171\" cy=\"-331\" rx=\"27\" ry=\"18\"/>\n<text text-anchor=\"middle\" x=\"171\" y=\"-327.3\" font-family=\"Times,serif\" font-size=\"14.00\">*</text>\n</g>\n<!-- 17&#45;&gt;20 -->\n<g id=\"edge13\" class=\"edge\">\n<title>17&#45;&gt;20</title>\n<path fill=\"none\" stroke=\"black\" d=\"M98.99,-214.35C102.18,-217.48 105.22,-220.71 108,-224 128.6,-248.38 146.18,-280.53 157.31,-303.2\"/>\n<polygon fill=\"black\" stroke=\"black\" points=\"154.11,-304.62 161.58,-312.13 160.42,-301.6 154.11,-304.62\"/>\n</g>\n<!-- 18 -->\n<g id=\"node18\" class=\"node\">\n<title>18</title>\n<polygon fill=\"none\" stroke=\"blue\" points=\"0,-233.5 0,-302.5 108,-302.5 108,-233.5 0,-233.5\"/>\n<text text-anchor=\"middle\" x=\"54\" y=\"-287.3\" font-family=\"Times,serif\" font-size=\"14.00\">b</text>\n<polyline fill=\"none\" stroke=\"blue\" points=\"0,-279.5 108,-279.5\"/>\n<text text-anchor=\"middle\" x=\"54\" y=\"-264.3\" font-family=\"Times,serif\" font-size=\"14.00\">0.3000</text>\n<polyline fill=\"none\" stroke=\"blue\" points=\"0,-256.5 108,-256.5\"/>\n<text text-anchor=\"middle\" x=\"54\" y=\"-241.3\" font-family=\"Times,serif\" font-size=\"14.00\">grad: 0.0685</text>\n</g>\n<!-- 18&#45;&gt;16 -->\n<g id=\"edge10\" class=\"edge\">\n<title>18&#45;&gt;16</title>\n<path fill=\"none\" stroke=\"black\" d=\"M107.79,-256.52C116.54,-254.62 125.43,-252.69 133.66,-250.9\"/>\n<polygon fill=\"black\" stroke=\"black\" points=\"134.24,-254.35 143.27,-248.81 132.76,-247.51 134.24,-254.35\"/>\n</g>\n<!-- 19 -->\n<g id=\"node19\" class=\"node\">\n<title>19</title>\n<polygon fill=\"none\" stroke=\"blue\" points=\"234,-296.5 234,-365.5 342,-365.5 342,-296.5 234,-296.5\"/>\n<text text-anchor=\"middle\" x=\"288\" y=\"-350.3\" font-family=\"Times,serif\" font-size=\"14.00\">d</text>\n<polyline fill=\"none\" stroke=\"blue\" points=\"234,-342.5 342,-342.5\"/>\n<text text-anchor=\"middle\" x=\"288\" y=\"-327.3\" font-family=\"Times,serif\" font-size=\"14.00\">0.1200</text>\n<polyline fill=\"none\" stroke=\"blue\" points=\"234,-319.5 342,-319.5\"/>\n<text text-anchor=\"middle\" x=\"288\" y=\"-304.3\" font-family=\"Times,serif\" font-size=\"14.00\">grad: 0.3997</text>\n</g>\n<!-- 19&#45;&gt;14 -->\n<g id=\"edge15\" class=\"edge\">\n<title>19&#45;&gt;14</title>\n<path fill=\"none\" stroke=\"black\" d=\"M333.79,-296.72C348.61,-285.39 364.61,-273.14 377.59,-263.21\"/>\n<polygon fill=\"black\" stroke=\"black\" points=\"379.44,-266.2 385.25,-257.35 375.18,-260.65 379.44,-266.2\"/>\n</g>\n<!-- 20&#45;&gt;19 -->\n<g id=\"edge12\" class=\"edge\">\n<title>20&#45;&gt;19</title>\n<path fill=\"none\" stroke=\"black\" d=\"M198.38,-331C205.85,-331 214.32,-331 223,-331\"/>\n<polygon fill=\"black\" stroke=\"black\" points=\"222.93,-334.5 232.93,-331 222.93,-327.5 222.93,-334.5\"/>\n</g>\n<!-- 21 -->\n<g id=\"node21\" class=\"node\">\n<title>21</title>\n<polygon fill=\"none\" stroke=\"blue\" points=\"0,-321.5 0,-390.5 108,-390.5 108,-321.5 0,-321.5\"/>\n<text text-anchor=\"middle\" x=\"54\" y=\"-375.3\" font-family=\"Times,serif\" font-size=\"14.00\"> </text>\n<polyline fill=\"none\" stroke=\"blue\" points=\"0,-367.5 108,-367.5\"/>\n<text text-anchor=\"middle\" x=\"54\" y=\"-352.3\" font-family=\"Times,serif\" font-size=\"14.00\">0.3000</text>\n<polyline fill=\"none\" stroke=\"blue\" points=\"0,-344.5 108,-344.5\"/>\n<text text-anchor=\"middle\" x=\"54\" y=\"-329.3\" font-family=\"Times,serif\" font-size=\"14.00\">grad: 0.1599</text>\n</g>\n<!-- 21&#45;&gt;20 -->\n<g id=\"edge14\" class=\"edge\">\n<title>21&#45;&gt;20</title>\n<path fill=\"none\" stroke=\"black\" d=\"M107.79,-344.52C116.54,-342.62 125.43,-340.69 133.66,-338.9\"/>\n<polygon fill=\"black\" stroke=\"black\" points=\"134.24,-342.35 143.27,-336.81 132.76,-335.51 134.24,-342.35\"/>\n</g>\n<!-- 22 -->\n<g id=\"node22\" class=\"node\">\n<title>22</title>\n<polygon fill=\"none\" stroke=\"blue\" points=\"702,-88.5 702,-157.5 810,-157.5 810,-88.5 702,-88.5\"/>\n<text text-anchor=\"middle\" x=\"756\" y=\"-142.3\" font-family=\"Times,serif\" font-size=\"14.00\"> </text>\n<polyline fill=\"none\" stroke=\"blue\" points=\"702,-134.5 810,-134.5\"/>\n<text text-anchor=\"middle\" x=\"756\" y=\"-119.3\" font-family=\"Times,serif\" font-size=\"14.00\">0.3000</text>\n<polyline fill=\"none\" stroke=\"blue\" points=\"702,-111.5 810,-111.5\"/>\n<text text-anchor=\"middle\" x=\"756\" y=\"-96.3\" font-family=\"Times,serif\" font-size=\"14.00\">grad: 0.5710</text>\n</g>\n<!-- 22&#45;&gt;10 -->\n<g id=\"edge19\" class=\"edge\">\n<title>22&#45;&gt;10</title>\n<path fill=\"none\" stroke=\"black\" d=\"M809.79,-143.2C819.61,-146.96 829.62,-150.78 838.65,-154.24\"/>\n<polygon fill=\"black\" stroke=\"black\" points=\"837.11,-157.4 847.7,-157.7 839.61,-150.86 837.11,-157.4\"/>\n</g>\n<!-- 23 -->\n<g id=\"node23\" class=\"node\">\n<title>23</title>\n<polygon fill=\"none\" stroke=\"blue\" points=\"936,-44.5 936,-113.5 1044,-113.5 1044,-44.5 936,-44.5\"/>\n<text text-anchor=\"middle\" x=\"990\" y=\"-98.3\" font-family=\"Times,serif\" font-size=\"14.00\"> </text>\n<polyline fill=\"none\" stroke=\"blue\" points=\"936,-90.5 1044,-90.5\"/>\n<text text-anchor=\"middle\" x=\"990\" y=\"-75.3\" font-family=\"Times,serif\" font-size=\"14.00\">2.0000</text>\n<polyline fill=\"none\" stroke=\"blue\" points=\"936,-67.5 1044,-67.5\"/>\n<text text-anchor=\"middle\" x=\"990\" y=\"-52.3\" font-family=\"Times,serif\" font-size=\"14.00\">grad: 0.2238</text>\n</g>\n<!-- 23&#45;&gt;8 -->\n<g id=\"edge21\" class=\"edge\">\n<title>23&#45;&gt;8</title>\n<path fill=\"none\" stroke=\"black\" d=\"M1043.79,-99.2C1053.61,-102.96 1063.62,-106.78 1072.65,-110.24\"/>\n<polygon fill=\"black\" stroke=\"black\" points=\"1071.11,-113.4 1081.7,-113.7 1073.61,-106.86 1071.11,-113.4\"/>\n</g>\n<!-- 24 -->\n<g id=\"node24\" class=\"node\">\n<title>24</title>\n<polygon fill=\"none\" stroke=\"blue\" points=\"1407.1,-176.5 1407.1,-245.5 1515.1,-245.5 1515.1,-176.5 1407.1,-176.5\"/>\n<text text-anchor=\"middle\" x=\"1461.1\" y=\"-230.3\" font-family=\"Times,serif\" font-size=\"14.00\"> </text>\n<polyline fill=\"none\" stroke=\"blue\" points=\"1407.1,-222.5 1515.1,-222.5\"/>\n<text text-anchor=\"middle\" x=\"1461.1\" y=\"-207.3\" font-family=\"Times,serif\" font-size=\"14.00\">&#45;1.0000</text>\n<polyline fill=\"none\" stroke=\"blue\" points=\"1407.1,-199.5 1515.1,-199.5\"/>\n<text text-anchor=\"middle\" x=\"1461.1\" y=\"-184.3\" font-family=\"Times,serif\" font-size=\"14.00\">grad: 0.1725</text>\n</g>\n<!-- 24&#45;&gt;4 -->\n<g id=\"edge24\" class=\"edge\">\n<title>24&#45;&gt;4</title>\n<path fill=\"none\" stroke=\"black\" d=\"M1515,-206.05C1524.21,-205.18 1533.62,-204.3 1542.3,-203.49\"/>\n<polygon fill=\"black\" stroke=\"black\" points=\"1542.47,-206.99 1552.1,-202.57 1541.82,-200.02 1542.47,-206.99\"/>\n</g>\n<!-- 25 -->\n<g id=\"node25\" class=\"node\">\n<title>25</title>\n<polygon fill=\"none\" stroke=\"blue\" points=\"1936.6,-98.5 1936.6,-167.5 2044.6,-167.5 2044.6,-98.5 1936.6,-98.5\"/>\n<text text-anchor=\"middle\" x=\"1990.6\" y=\"-152.3\" font-family=\"Times,serif\" font-size=\"14.00\"> </text>\n<polyline fill=\"none\" stroke=\"blue\" points=\"1936.6,-144.5 2044.6,-144.5\"/>\n<text text-anchor=\"middle\" x=\"1990.6\" y=\"-129.3\" font-family=\"Times,serif\" font-size=\"14.00\">0.1725</text>\n<polyline fill=\"none\" stroke=\"blue\" points=\"1936.6,-121.5 2044.6,-121.5\"/>\n<text text-anchor=\"middle\" x=\"1990.6\" y=\"-106.3\" font-family=\"Times,serif\" font-size=\"14.00\">grad: 3.7970</text>\n</g>\n<!-- 25&#45;&gt;2 -->\n<g id=\"edge32\" class=\"edge\">\n<title>25&#45;&gt;2</title>\n<path fill=\"none\" stroke=\"black\" d=\"M2044.38,-147.23C2053.39,-149.66 2062.56,-152.13 2070.99,-154.4\"/>\n<polygon fill=\"black\" stroke=\"black\" points=\"2069.92,-157.74 2080.48,-156.96 2071.74,-150.98 2069.92,-157.74\"/>\n</g>\n<!-- 26 -->\n<g id=\"node26\" class=\"node\">\n<title>26</title>\n<ellipse fill=\"yellow\" stroke=\"blue\" cx=\"1846.6\" cy=\"-129\" rx=\"29.8\" ry=\"18\"/>\n<text text-anchor=\"middle\" x=\"1846.6\" y=\"-125.3\" font-family=\"Times,serif\" font-size=\"14.00\">pow</text>\n</g>\n<!-- 26&#45;&gt;25 -->\n<g id=\"edge26\" class=\"edge\">\n<title>26&#45;&gt;25</title>\n<path fill=\"none\" stroke=\"black\" d=\"M1876.67,-129.82C1890.85,-130.22 1908.5,-130.72 1925.61,-131.2\"/>\n<polygon fill=\"black\" stroke=\"black\" points=\"1925.12,-134.69 1935.21,-131.47 1925.31,-127.69 1925.12,-134.69\"/>\n</g>\n<!-- 27 -->\n<g id=\"node27\" class=\"node\">\n<title>27</title>\n<polygon fill=\"none\" stroke=\"blue\" points=\"1643.6,-10.5 1643.6,-79.5 1756.6,-79.5 1756.6,-10.5 1643.6,-10.5\"/>\n<text text-anchor=\"middle\" x=\"1700.1\" y=\"-64.3\" font-family=\"Times,serif\" font-size=\"14.00\"> </text>\n<polyline fill=\"none\" stroke=\"blue\" points=\"1643.6,-56.5 1756.6,-56.5\"/>\n<text text-anchor=\"middle\" x=\"1700.1\" y=\"-41.3\" font-family=\"Times,serif\" font-size=\"14.00\">5.7970</text>\n<polyline fill=\"none\" stroke=\"blue\" points=\"1643.6,-33.5 1756.6,-33.5\"/>\n<text text-anchor=\"middle\" x=\"1700.1\" y=\"-18.3\" font-family=\"Times,serif\" font-size=\"14.00\">grad: &#45;0.1130</text>\n</g>\n<!-- 27&#45;&gt;26 -->\n<g id=\"edge30\" class=\"edge\">\n<title>27&#45;&gt;26</title>\n<path fill=\"none\" stroke=\"black\" d=\"M1756.55,-77.24C1776.19,-88.65 1797.58,-101.09 1814.48,-110.91\"/>\n<polygon fill=\"black\" stroke=\"black\" points=\"1812.65,-113.9 1823.05,-115.9 1816.17,-107.84 1812.65,-113.9\"/>\n</g>\n<!-- 28&#45;&gt;27 -->\n<g id=\"edge27\" class=\"edge\">\n<title>28&#45;&gt;27</title>\n<path fill=\"none\" stroke=\"black\" d=\"M1607.96,-45C1615.4,-45 1623.84,-45 1632.51,-45\"/>\n<polygon fill=\"black\" stroke=\"black\" points=\"1632.46,-48.5 1642.46,-45 1632.46,-41.5 1632.46,-48.5\"/>\n</g>\n<!-- 29 -->\n<g id=\"node29\" class=\"node\">\n<title>29</title>\n<polygon fill=\"none\" stroke=\"blue\" points=\"1404.6,-0.5 1404.6,-69.5 1517.6,-69.5 1517.6,-0.5 1404.6,-0.5\"/>\n<text text-anchor=\"middle\" x=\"1461.1\" y=\"-54.3\" font-family=\"Times,serif\" font-size=\"14.00\"> </text>\n<polyline fill=\"none\" stroke=\"blue\" points=\"1404.6,-46.5 1517.6,-46.5\"/>\n<text text-anchor=\"middle\" x=\"1461.1\" y=\"-31.3\" font-family=\"Times,serif\" font-size=\"14.00\">1.0000</text>\n<polyline fill=\"none\" stroke=\"blue\" points=\"1404.6,-23.5 1517.6,-23.5\"/>\n<text text-anchor=\"middle\" x=\"1461.1\" y=\"-8.3\" font-family=\"Times,serif\" font-size=\"14.00\">grad: &#45;0.1130</text>\n</g>\n<!-- 29&#45;&gt;28 -->\n<g id=\"edge29\" class=\"edge\">\n<title>29&#45;&gt;28</title>\n<path fill=\"none\" stroke=\"black\" d=\"M1517.4,-39.71C1525.78,-40.42 1534.26,-41.14 1542.14,-41.81\"/>\n<polygon fill=\"black\" stroke=\"black\" points=\"1541.79,-45.3 1552.05,-42.66 1542.38,-38.32 1541.79,-45.3\"/>\n</g>\n<!-- 30 -->\n<g id=\"node30\" class=\"node\">\n<title>30</title>\n<polygon fill=\"none\" stroke=\"blue\" points=\"1646.1,-98.5 1646.1,-167.5 1754.1,-167.5 1754.1,-98.5 1646.1,-98.5\"/>\n<text text-anchor=\"middle\" x=\"1700.1\" y=\"-152.3\" font-family=\"Times,serif\" font-size=\"14.00\"> </text>\n<polyline fill=\"none\" stroke=\"blue\" points=\"1646.1,-144.5 1754.1,-144.5\"/>\n<text text-anchor=\"middle\" x=\"1700.1\" y=\"-129.3\" font-family=\"Times,serif\" font-size=\"14.00\">&#45;1.0000</text>\n<polyline fill=\"none\" stroke=\"blue\" points=\"1646.1,-121.5 1754.1,-121.5\"/>\n<text text-anchor=\"middle\" x=\"1700.1\" y=\"-106.3\" font-family=\"Times,serif\" font-size=\"14.00\">grad: 0.0000</text>\n</g>\n<!-- 30&#45;&gt;26 -->\n<g id=\"edge31\" class=\"edge\">\n<title>30&#45;&gt;26</title>\n<path fill=\"none\" stroke=\"black\" d=\"M1754.08,-131.53C1771.06,-131.06 1789.58,-130.55 1805.48,-130.11\"/>\n<polygon fill=\"black\" stroke=\"black\" points=\"1805.13,-133.62 1815.03,-129.85 1804.93,-126.62 1805.13,-133.62\"/>\n</g>\n</g>\n</svg>\n",
      "text/plain": [
       "<graphviz.graphs.Digraph at 0x7fce2b2203d0>"
      ]
     },
     "execution_count": 5,
     "metadata": {},
     "output_type": "execute_result"
    }
   ],
   "source": [
    "a = Value(.4, label='a')\n",
    "b = Value(.3 , label='b')\n",
    "c = a + b; c.label = 'c'\n",
    "d = a * .3; d.label = 'd'\n",
    "e = c * d + a + .3; e.label = 'e'\n",
    "f = e.tanh(); f.label = 'f'\n",
    "# f = e.ptanh(); f.label = 'f'\n",
    "\n",
    "# print(e._children)\n",
    "# print((a*a)._children)\n",
    "\n",
    "\n",
    "f.zero_grad()\n",
    "f.backward()\n",
    "graph_value(f)"
   ]
  },
  {
   "cell_type": "markdown",
   "metadata": {},
   "source": [
    "# Neurons and Layers\n"
   ]
  },
  {
   "cell_type": "code",
   "execution_count": 6,
   "metadata": {},
   "outputs": [],
   "source": [
    "class Neuron:\n",
    "    def __init__(self, nin):\n",
    "        self.w = [Value(random.uniform(-1, 1)) for _ in range(nin)]\n",
    "        self.b = Value(random.uniform(-1,1))\n",
    "    def __call__(self, x):\n",
    "        assert(len(x) == len(self.w))\n",
    "        # w dot x + b\n",
    "        res = sum((w * x for w, x in zip(self.w, x)), start= self.b)\n",
    "        return res.tanh()  # activation function\n",
    "    \n",
    "    def parameters(self):\n",
    "        return self.w + [self.b]\n",
    "\n",
    "class Layer:\n",
    "    def __init__(self, nin, nout):\n",
    "        self.neurons = [Neuron(nin) for _ in range(nout)]\n",
    "    def __call__(self, x):\n",
    "        outs = [n(x) for n in self.neurons]\n",
    "        return outs[0] if len(outs) == 1 else outs\n",
    "\n",
    "    def parameters(self):\n",
    "        return [p for n in self.neurons for p in n.parameters()]\n",
    "\n",
    "# MLP multi - layer - perceptron\n",
    "class MLP:\n",
    "    def __init__(self, nin, nouts):\n",
    "        self._params = None\n",
    "        sz = [nin] + nouts\n",
    "        self.nin = nin\n",
    "        self.layers = [Layer(sz[i], sz[i + 1]) for i in range(len(nouts))]\n",
    "    def __call__ (self, x):\n",
    "        assert(len(x) == self.nin)\n",
    "        for layer in self.layers:\n",
    "            x = layer(x)\n",
    "        return x\n",
    "    def parameters(self):\n",
    "        return self._params if self._params != None else[p for l in self.layers for p in l.parameters()]\n",
    "\n",
    "    def train(self, input, pred, rate):\n",
    "        \"\"\" train this MLP\n",
    "        @param input array of inputs, len(input) == MLP.nin\n",
    "        @param prediction array of predictions for those inputs\n",
    "        \"\"\"\n",
    "        ypred = [self(x) for x in input]\n",
    "        loss = sum((yout - ygt) ** 2 for ygt, yout in zip(pred, ypred))\n",
    "        loss.zero_grad()\n",
    "        loss.backward()\n",
    "        ps =  self.parameters()\n",
    "        for p in ps:\n",
    "            p.data -= rate * p._grad\n",
    "        return loss\n"
   ]
  },
  {
   "cell_type": "code",
   "execution_count": 7,
   "metadata": {},
   "outputs": [],
   "source": [
    "n = MLP(3, [4, 4, 1])\n",
    "xs = [\n",
    "    [2., 3., -1.],\n",
    "    [3., -1., .5],\n",
    "    [.5, 1., 1.],\n",
    "    [1., 1., -1.],\n",
    "]\n",
    "\n",
    "ys = [1, -1, -1, 1] #desired targets"
   ]
  },
  {
   "cell_type": "code",
   "execution_count": 8,
   "metadata": {},
   "outputs": [
    {
     "data": {
      "text/plain": [
       "726"
      ]
     },
     "execution_count": 8,
     "metadata": {},
     "output_type": "execute_result"
    }
   ],
   "source": [
    "for _ in range(1000):\n",
    "    loss = n.train(xs, ys, 0.01)\n",
    "len(loss._topo)"
   ]
  },
  {
   "cell_type": "code",
   "execution_count": 9,
   "metadata": {},
   "outputs": [
    {
     "data": {
      "text/plain": [
       "[Value(:  0.9748 = (* [77.45339038967401, 0.01258599532500205])),\n",
       " Value(: -0.9673 = (* [0.9836642661110568, -0.9833929782226137])),\n",
       " Value(: -0.9721 = (* [0.9860687388568471, -0.9858719168409055])),\n",
       " Value(:  0.9652 = (* [0.01739113428181129, 55.50056228625991]))]"
      ]
     },
     "execution_count": 9,
     "metadata": {},
     "output_type": "execute_result"
    }
   ],
   "source": [
    "[n(x) for x in xs]"
   ]
  }
 ],
 "metadata": {
  "kernelspec": {
   "display_name": "Python 3.10.8 ('.venv': venv)",
   "language": "python",
   "name": "python3"
  },
  "language_info": {
   "codemirror_mode": {
    "name": "ipython",
    "version": 3
   },
   "file_extension": ".py",
   "mimetype": "text/x-python",
   "name": "python",
   "nbconvert_exporter": "python",
   "pygments_lexer": "ipython3",
   "version": "3.10.8"
  },
  "orig_nbformat": 4,
  "vscode": {
   "interpreter": {
    "hash": "cfbabccf354ca50cf93cbee48f20d4c72f7b248248886686523a78f039fb73b9"
   }
  }
 },
 "nbformat": 4,
 "nbformat_minor": 2
}
