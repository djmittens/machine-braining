{
 "cells": [
  {
   "cell_type": "markdown",
   "metadata": {},
   "source": [
    "# Micrograd\n",
    "So this guy is where we build a neural net from scratch.\n",
    "We literally will make one, and perform back propagation by deriving some of the math\n"
   ]
  },
  {
   "cell_type": "code",
   "execution_count": 32,
   "metadata": {},
   "outputs": [],
   "source": [
    "import numpy as np\n",
    "import graphviz as gz\n",
    "import matplotlib.pyplot as plt\n",
    "import math\n",
    "\n",
    "%matplotlib inline\n"
   ]
  },
  {
   "cell_type": "markdown",
   "metadata": {},
   "source": [
    "## Constructing ADT\n",
    "Here we setup the initial ADT for discrete integer boxing, which will allow us to build a graph of operations that will eventually be topologically sorted to perform back propogation.\n",
    "* One thing that i want to learn to do is write math formulas inline in markdown.  Please papa Andrej do this in the future."
   ]
  },
  {
   "cell_type": "code",
   "execution_count": 92,
   "metadata": {},
   "outputs": [],
   "source": [
    "class Value:\n",
    "    def __init__(self, data, _children=(), _op=None, label=''):\n",
    "        self.data = data\n",
    "        self.label = label\n",
    "        self._grad = 0.0\n",
    "        self._children = set(_children)\n",
    "        self._op = _op\n",
    "        self._back = lambda: None\n",
    "    def __repr__(self) -> str:\n",
    "        if self._op == None:\n",
    "            return f\"Value({self.label}: {self.data: .4f})\"\n",
    "        else:\n",
    "            return f\"Value({self.label}: {self.data: .4f} = ({self._op} {[c.data for c in self._children]}))\"\n",
    "\n",
    "    def __add__(self, o) -> 'Value':\n",
    "        o = o if isinstance(o, Value) else Value(o)\n",
    "        out = Value(self.data + o.data, (self, o), '+')\n",
    "        def _back():\n",
    "            self._grad += 1.0 * out._grad\n",
    "            o._grad += 1.0 * out._grad\n",
    "        out._back = _back\n",
    "        return out\n",
    "\n",
    "    def __sub__(self, o) -> 'Value':\n",
    "        # o = o if isinstance(o, Value) else Value(o)\n",
    "        # out = Value(self.data - o.data, (self, o), '-')\n",
    "        # def _back():\n",
    "        #     self._grad += 1.0 * out._grad\n",
    "        #     o._grad += -1.0 * out._grad\n",
    "        # out._back = _back\n",
    "        out = self + (o * -1) ; out._op='-'\n",
    "        return out\n",
    "\n",
    "    def __mul__(self, o) -> 'Value':\n",
    "        o = o if isinstance(o, Value) else Value(o)\n",
    "        out = Value(self.data * o.data, (self, o), '*')\n",
    "        def _back():\n",
    "            self._grad += o.data * out._grad\n",
    "            o._grad += self.data * out._grad\n",
    "        out._back = _back\n",
    "        return out\n",
    "    \n",
    "    # a / b => a * (1/b) => a * b^-1\n",
    "    def __truediv__(self, o) -> 'Value':\n",
    "        o = o if isinstance(o, Value) else Value(o)\n",
    "        out = self * o ** (-1); out._op = '/'\n",
    "        return out\n",
    "    \n",
    "    def __pow__(self, o) -> 'Value':\n",
    "        o = o if isinstance(o, Value) else Value(o)\n",
    "        out = Value(self.data ** o.data, (self, o), 'pow')\n",
    "        def _back():\n",
    "            self._grad += (o.data * self.data ** (o.data  - 1)) * out._grad\n",
    "            o._grad += math.log(self.data) * out.data * out._grad\n",
    "        out._back = _back\n",
    "        return out\n",
    "        \n",
    "    \n",
    "    def tanh(self) -> 'Value':\n",
    "        t = (2 * self).exp()\n",
    "        tanh = (t - 1) / (t + 1)\n",
    "        return tanh\n",
    "\n",
    "    def ptanh(self) -> 'Value':\n",
    "        t = math.exp(2 * self.data)\n",
    "        tanh = (t - 1) / (t + 1)\n",
    "        out = Value(tanh, (self,), 'tanh')\n",
    "        def _back():\n",
    "            self._grad += (1 - tanh**2) * out._grad\n",
    "        out._back = _back\n",
    "        return out\n",
    "    \n",
    "    def exp(self) -> 'Value':\n",
    "        out = Value(math.exp(self.data), (self,), 'exp')\n",
    "        def back():\n",
    "            self._grad += out.data * out._grad\n",
    "        out._back = back\n",
    "        return out\n",
    "\n",
    "    def backward(self):\n",
    "        self._grad = 1.\n",
    "        q = [self]\n",
    "        seen = set()\n",
    "        while len(q) > 0:\n",
    "            n = q.pop()\n",
    "            if n not in seen:\n",
    "                n._back()\n",
    "                q.extend(n._children)\n",
    "                seen.add(n)\n",
    "\n",
    "    def zero_back(self):\n",
    "        self._grad = 0;\n",
    "        q = [self]\n",
    "        seen = set()\n",
    "        while len(q) > 0:\n",
    "            n = q.pop()\n",
    "            if n not in seen:\n",
    "                n._grad = 0\n",
    "                q.extend(n._children)\n",
    "                seen.add(n)\n",
    "\n",
    "    \n",
    "    def __radd__(self, o) -> 'Value':\n",
    "        return self + o\n",
    "    def __rsub__(self, o) -> 'Value':\n",
    "        return self - o\n",
    "    def __rmul__(self, o) -> 'Value':\n",
    "        return self * o\n",
    "    def __rtruediv__(self, o) -> 'Value':\n",
    "        return self / 0\n"
   ]
  },
  {
   "cell_type": "code",
   "execution_count": 93,
   "metadata": {},
   "outputs": [
    {
     "name": "stdout",
     "output_type": "stream",
     "text": [
      "{Value(:  0.3000), Value(:  0.4840 = (+ [0.4, 0.08399999999999999]))}\n",
      "{Value(a:  0.4000)}\n"
     ]
    }
   ],
   "source": [
    "a = Value(.4, label='a')\n",
    "b = Value(.3 , label='b')\n",
    "c = a + b; c.label = 'c'\n",
    "d = a * .3; d.label = 'd'\n",
    "e = c * d + a + .3; e.label = 'e'\n",
    "f = e.tanh(); f.label = 'f'\n",
    "\n",
    "print(e._children)\n",
    "\n",
    "print((a*a)._children)\n"
   ]
  },
  {
   "cell_type": "markdown",
   "metadata": {},
   "source": [
    "## Graphing the graph\n",
    "Lets plot this sucker using graphviz. Turns out the api is pretty easy to use. We can use recursion to build up our nodes in BFS order."
   ]
  },
  {
   "cell_type": "code",
   "execution_count": 95,
   "metadata": {},
   "outputs": [
    {
     "data": {
      "image/svg+xml": "<?xml version=\"1.0\" encoding=\"UTF-8\" standalone=\"no\"?>\n<!DOCTYPE svg PUBLIC \"-//W3C//DTD SVG 1.1//EN\"\n \"http://www.w3.org/Graphics/SVG/1.1/DTD/svg11.dtd\">\n<!-- Generated by graphviz version 7.0.1 (0)\n -->\n<!-- Title: G Pages: 1 -->\n<svg width=\"1078pt\" height=\"1351pt\"\n viewBox=\"0.00 0.00 1077.50 1351.00\" xmlns=\"http://www.w3.org/2000/svg\" xmlns:xlink=\"http://www.w3.org/1999/xlink\">\n<g id=\"graph0\" class=\"graph\" transform=\"scale(1 1) rotate(0) translate(4 1347)\">\n<title>G</title>\n<polygon fill=\"white\" stroke=\"none\" points=\"-4,4 -4,-1347 1073.5,-1347 1073.5,4 -4,4\"/>\n<!-- 1 -->\n<g id=\"node1\" class=\"node\">\n<title>1</title>\n<polygon fill=\"none\" stroke=\"blue\" points=\"283,-0.5 283,-36.5 479,-36.5 479,-0.5 283,-0.5\"/>\n<text text-anchor=\"middle\" x=\"294\" y=\"-14.8\" font-family=\"Times,serif\" font-size=\"14.00\">f</text>\n<polyline fill=\"none\" stroke=\"blue\" points=\"305,-0.5 305,-36.5\"/>\n<text text-anchor=\"middle\" x=\"338\" y=\"-14.8\" font-family=\"Times,serif\" font-size=\"14.00\">0.6550</text>\n<polyline fill=\"none\" stroke=\"blue\" points=\"371,-0.5 371,-36.5\"/>\n<text text-anchor=\"middle\" x=\"425\" y=\"-14.8\" font-family=\"Times,serif\" font-size=\"14.00\">grad: 1.0000</text>\n</g>\n<!-- 2 -->\n<g id=\"node2\" class=\"node\">\n<title>2</title>\n<ellipse fill=\"yellow\" stroke=\"blue\" cx=\"381\" cy=\"-91\" rx=\"27\" ry=\"18\"/>\n<text text-anchor=\"middle\" x=\"381\" y=\"-87.3\" font-family=\"Times,serif\" font-size=\"14.00\">/</text>\n</g>\n<!-- 2&#45;&gt;1 -->\n<g id=\"edge1\" class=\"edge\">\n<title>2&#45;&gt;1</title>\n<path fill=\"none\" stroke=\"black\" d=\"M381,-72.57C381,-65.03 381,-56.02 381,-47.58\"/>\n<polygon fill=\"black\" stroke=\"black\" points=\"384.5,-47.75 381,-37.75 377.5,-47.75 384.5,-47.75\"/>\n</g>\n<!-- 3 -->\n<g id=\"node3\" class=\"node\">\n<title>3</title>\n<polygon fill=\"none\" stroke=\"blue\" points=\"220.5,-145.5 220.5,-181.5 415.5,-181.5 415.5,-145.5 220.5,-145.5\"/>\n<text text-anchor=\"middle\" x=\"231\" y=\"-159.8\" font-family=\"Times,serif\" font-size=\"14.00\"> </text>\n<polyline fill=\"none\" stroke=\"blue\" points=\"241.5,-145.5 241.5,-181.5\"/>\n<text text-anchor=\"middle\" x=\"274.5\" y=\"-159.8\" font-family=\"Times,serif\" font-size=\"14.00\">0.1725</text>\n<polyline fill=\"none\" stroke=\"blue\" points=\"307.5,-145.5 307.5,-181.5\"/>\n<text text-anchor=\"middle\" x=\"361.5\" y=\"-159.8\" font-family=\"Times,serif\" font-size=\"14.00\">grad: 3.7970</text>\n</g>\n<!-- 3&#45;&gt;2 -->\n<g id=\"edge28\" class=\"edge\">\n<title>3&#45;&gt;2</title>\n<path fill=\"none\" stroke=\"black\" d=\"M332.93,-145.79C341.15,-136.6 351.47,-125.05 360.44,-115.01\"/>\n<polygon fill=\"black\" stroke=\"black\" points=\"362.82,-117.59 366.88,-107.8 357.6,-112.93 362.82,-117.59\"/>\n</g>\n<!-- 4 -->\n<g id=\"node4\" class=\"node\">\n<title>4</title>\n<ellipse fill=\"yellow\" stroke=\"blue\" cx=\"309\" cy=\"-236.5\" rx=\"29.8\" ry=\"18\"/>\n<text text-anchor=\"middle\" x=\"309\" y=\"-232.8\" font-family=\"Times,serif\" font-size=\"14.00\">pow</text>\n</g>\n<!-- 4&#45;&gt;3 -->\n<g id=\"edge2\" class=\"edge\">\n<title>4&#45;&gt;3</title>\n<path fill=\"none\" stroke=\"black\" d=\"M311.18,-218.31C312.17,-210.53 313.36,-201.12 314.47,-192.36\"/>\n<polygon fill=\"black\" stroke=\"black\" points=\"317.93,-192.9 315.71,-182.54 310.98,-192.02 317.93,-192.9\"/>\n</g>\n<!-- 5 -->\n<g id=\"node5\" class=\"node\">\n<title>5</title>\n<polygon fill=\"none\" stroke=\"blue\" points=\"218,-291.5 218,-327.5 418,-327.5 418,-291.5 218,-291.5\"/>\n<text text-anchor=\"middle\" x=\"228.5\" y=\"-305.8\" font-family=\"Times,serif\" font-size=\"14.00\"> </text>\n<polyline fill=\"none\" stroke=\"blue\" points=\"239,-291.5 239,-327.5\"/>\n<text text-anchor=\"middle\" x=\"272\" y=\"-305.8\" font-family=\"Times,serif\" font-size=\"14.00\">5.7970</text>\n<polyline fill=\"none\" stroke=\"blue\" points=\"305,-291.5 305,-327.5\"/>\n<text text-anchor=\"middle\" x=\"361.5\" y=\"-305.8\" font-family=\"Times,serif\" font-size=\"14.00\">grad: &#45;0.1130</text>\n</g>\n<!-- 5&#45;&gt;4 -->\n<g id=\"edge26\" class=\"edge\">\n<title>5&#45;&gt;4</title>\n<path fill=\"none\" stroke=\"black\" d=\"M315.87,-291.67C314.9,-284.06 313.73,-274.85 312.64,-266.2\"/>\n<polygon fill=\"black\" stroke=\"black\" points=\"316.13,-265.93 311.4,-256.45 309.19,-266.81 316.13,-265.93\"/>\n</g>\n<!-- 6 -->\n<g id=\"node6\" class=\"node\">\n<title>6</title>\n<ellipse fill=\"yellow\" stroke=\"blue\" cx=\"318\" cy=\"-382\" rx=\"27\" ry=\"18\"/>\n<text text-anchor=\"middle\" x=\"318\" y=\"-378.3\" font-family=\"Times,serif\" font-size=\"14.00\">+</text>\n</g>\n<!-- 6&#45;&gt;5 -->\n<g id=\"edge3\" class=\"edge\">\n<title>6&#45;&gt;5</title>\n<path fill=\"none\" stroke=\"black\" d=\"M318,-363.57C318,-356.03 318,-347.02 318,-338.58\"/>\n<polygon fill=\"black\" stroke=\"black\" points=\"321.5,-338.75 318,-328.75 314.5,-338.75 321.5,-338.75\"/>\n</g>\n<!-- 7 -->\n<g id=\"node7\" class=\"node\">\n<title>7</title>\n<polygon fill=\"none\" stroke=\"blue\" points=\"70,-436.5 70,-472.5 270,-472.5 270,-436.5 70,-436.5\"/>\n<text text-anchor=\"middle\" x=\"80.5\" y=\"-450.8\" font-family=\"Times,serif\" font-size=\"14.00\"> </text>\n<polyline fill=\"none\" stroke=\"blue\" points=\"91,-436.5 91,-472.5\"/>\n<text text-anchor=\"middle\" x=\"124\" y=\"-450.8\" font-family=\"Times,serif\" font-size=\"14.00\">1.0000</text>\n<polyline fill=\"none\" stroke=\"blue\" points=\"157,-436.5 157,-472.5\"/>\n<text text-anchor=\"middle\" x=\"213.5\" y=\"-450.8\" font-family=\"Times,serif\" font-size=\"14.00\">grad: &#45;0.1130</text>\n</g>\n<!-- 7&#45;&gt;6 -->\n<g id=\"edge4\" class=\"edge\">\n<title>7&#45;&gt;6</title>\n<path fill=\"none\" stroke=\"black\" d=\"M205.45,-436.61C230.07,-424.89 262.59,-409.39 286.34,-398.08\"/>\n<polygon fill=\"black\" stroke=\"black\" points=\"287.69,-401.32 295.21,-393.86 284.68,-395 287.69,-401.32\"/>\n</g>\n<!-- 8 -->\n<g id=\"node8\" class=\"node\">\n<title>8</title>\n<polygon fill=\"none\" stroke=\"blue\" points=\"288.5,-436.5 288.5,-472.5 483.5,-472.5 483.5,-436.5 288.5,-436.5\"/>\n<text text-anchor=\"middle\" x=\"299\" y=\"-450.8\" font-family=\"Times,serif\" font-size=\"14.00\"> </text>\n<polyline fill=\"none\" stroke=\"blue\" points=\"309.5,-436.5 309.5,-472.5\"/>\n<text text-anchor=\"middle\" x=\"342.5\" y=\"-450.8\" font-family=\"Times,serif\" font-size=\"14.00\">4.7970</text>\n<polyline fill=\"none\" stroke=\"blue\" points=\"375.5,-436.5 375.5,-472.5\"/>\n<text text-anchor=\"middle\" x=\"429.5\" y=\"-450.8\" font-family=\"Times,serif\" font-size=\"14.00\">grad: 0.0595</text>\n</g>\n<!-- 8&#45;&gt;6 -->\n<g id=\"edge25\" class=\"edge\">\n<title>8&#45;&gt;6</title>\n<path fill=\"none\" stroke=\"black\" d=\"M369.88,-436.79C360.93,-427.5 349.65,-415.81 339.9,-405.71\"/>\n<polygon fill=\"black\" stroke=\"black\" points=\"342.67,-403.53 333.2,-398.76 337.63,-408.39 342.67,-403.53\"/>\n</g>\n<!-- 29 -->\n<g id=\"node29\" class=\"node\">\n<title>29</title>\n<ellipse fill=\"yellow\" stroke=\"blue\" cx=\"454\" cy=\"-382\" rx=\"27\" ry=\"18\"/>\n<text text-anchor=\"middle\" x=\"454\" y=\"-378.3\" font-family=\"Times,serif\" font-size=\"14.00\">&#45;</text>\n</g>\n<!-- 8&#45;&gt;29 -->\n<g id=\"edge31\" class=\"edge\">\n<title>8&#45;&gt;29</title>\n<path fill=\"none\" stroke=\"black\" d=\"M402.12,-436.79C411.07,-427.5 422.35,-415.81 432.1,-405.71\"/>\n<polygon fill=\"black\" stroke=\"black\" points=\"434.37,-408.39 438.8,-398.76 429.33,-403.53 434.37,-408.39\"/>\n</g>\n<!-- 9 -->\n<g id=\"node9\" class=\"node\">\n<title>9</title>\n<ellipse fill=\"yellow\" stroke=\"blue\" cx=\"386\" cy=\"-527\" rx=\"27.1\" ry=\"18\"/>\n<text text-anchor=\"middle\" x=\"386\" y=\"-523.3\" font-family=\"Times,serif\" font-size=\"14.00\">exp</text>\n</g>\n<!-- 9&#45;&gt;8 -->\n<g id=\"edge5\" class=\"edge\">\n<title>9&#45;&gt;8</title>\n<path fill=\"none\" stroke=\"black\" d=\"M386,-508.57C386,-501.03 386,-492.02 386,-483.58\"/>\n<polygon fill=\"black\" stroke=\"black\" points=\"389.5,-483.75 386,-473.75 382.5,-483.75 389.5,-483.75\"/>\n</g>\n<!-- 10 -->\n<g id=\"node10\" class=\"node\">\n<title>10</title>\n<polygon fill=\"none\" stroke=\"blue\" points=\"288.5,-581.5 288.5,-617.5 483.5,-617.5 483.5,-581.5 288.5,-581.5\"/>\n<text text-anchor=\"middle\" x=\"299\" y=\"-595.8\" font-family=\"Times,serif\" font-size=\"14.00\"> </text>\n<polyline fill=\"none\" stroke=\"blue\" points=\"309.5,-581.5 309.5,-617.5\"/>\n<text text-anchor=\"middle\" x=\"342.5\" y=\"-595.8\" font-family=\"Times,serif\" font-size=\"14.00\">1.5680</text>\n<polyline fill=\"none\" stroke=\"blue\" points=\"375.5,-581.5 375.5,-617.5\"/>\n<text text-anchor=\"middle\" x=\"429.5\" y=\"-595.8\" font-family=\"Times,serif\" font-size=\"14.00\">grad: 0.8275</text>\n</g>\n<!-- 10&#45;&gt;9 -->\n<g id=\"edge24\" class=\"edge\">\n<title>10&#45;&gt;9</title>\n<path fill=\"none\" stroke=\"black\" d=\"M386,-581.79C386,-574.18 386,-564.95 386,-556.3\"/>\n<polygon fill=\"black\" stroke=\"black\" points=\"389.5,-556.59 386,-546.59 382.5,-556.59 389.5,-556.59\"/>\n</g>\n<!-- 11 -->\n<g id=\"node11\" class=\"node\">\n<title>11</title>\n<ellipse fill=\"yellow\" stroke=\"blue\" cx=\"386\" cy=\"-672\" rx=\"27\" ry=\"18\"/>\n<text text-anchor=\"middle\" x=\"386\" y=\"-668.3\" font-family=\"Times,serif\" font-size=\"14.00\">*</text>\n</g>\n<!-- 11&#45;&gt;10 -->\n<g id=\"edge6\" class=\"edge\">\n<title>11&#45;&gt;10</title>\n<path fill=\"none\" stroke=\"black\" d=\"M386,-653.57C386,-646.03 386,-637.02 386,-628.58\"/>\n<polygon fill=\"black\" stroke=\"black\" points=\"389.5,-628.75 386,-618.75 382.5,-628.75 389.5,-628.75\"/>\n</g>\n<!-- 12 -->\n<g id=\"node12\" class=\"node\">\n<title>12</title>\n<polygon fill=\"none\" stroke=\"blue\" points=\"181.5,-726.5 181.5,-762.5 376.5,-762.5 376.5,-726.5 181.5,-726.5\"/>\n<text text-anchor=\"middle\" x=\"192\" y=\"-740.8\" font-family=\"Times,serif\" font-size=\"14.00\"> </text>\n<polyline fill=\"none\" stroke=\"blue\" points=\"202.5,-726.5 202.5,-762.5\"/>\n<text text-anchor=\"middle\" x=\"235.5\" y=\"-740.8\" font-family=\"Times,serif\" font-size=\"14.00\">2.0000</text>\n<polyline fill=\"none\" stroke=\"blue\" points=\"268.5,-726.5 268.5,-762.5\"/>\n<text text-anchor=\"middle\" x=\"322.5\" y=\"-740.8\" font-family=\"Times,serif\" font-size=\"14.00\">grad: 0.6488</text>\n</g>\n<!-- 12&#45;&gt;11 -->\n<g id=\"edge7\" class=\"edge\">\n<title>12&#45;&gt;11</title>\n<path fill=\"none\" stroke=\"black\" d=\"M304.63,-726.61C320.75,-715.99 341.57,-702.28 358.11,-691.38\"/>\n<polygon fill=\"black\" stroke=\"black\" points=\"359.59,-694.59 366.02,-686.17 355.74,-688.75 359.59,-694.59\"/>\n</g>\n<!-- 13 -->\n<g id=\"node13\" class=\"node\">\n<title>13</title>\n<polygon fill=\"none\" stroke=\"blue\" points=\"394.5,-726.5 394.5,-762.5 593.5,-762.5 593.5,-726.5 394.5,-726.5\"/>\n<text text-anchor=\"middle\" x=\"407\" y=\"-740.8\" font-family=\"Times,serif\" font-size=\"14.00\">e</text>\n<polyline fill=\"none\" stroke=\"blue\" points=\"419.5,-726.5 419.5,-762.5\"/>\n<text text-anchor=\"middle\" x=\"452.5\" y=\"-740.8\" font-family=\"Times,serif\" font-size=\"14.00\">0.7840</text>\n<polyline fill=\"none\" stroke=\"blue\" points=\"485.5,-726.5 485.5,-762.5\"/>\n<text text-anchor=\"middle\" x=\"539.5\" y=\"-740.8\" font-family=\"Times,serif\" font-size=\"14.00\">grad: 1.6550</text>\n</g>\n<!-- 13&#45;&gt;11 -->\n<g id=\"edge23\" class=\"edge\">\n<title>13&#45;&gt;11</title>\n<path fill=\"none\" stroke=\"black\" d=\"M468.13,-726.61C451.86,-715.99 430.85,-702.28 414.16,-691.38\"/>\n<polygon fill=\"black\" stroke=\"black\" points=\"416.45,-688.7 406.16,-686.16 412.62,-694.56 416.45,-688.7\"/>\n</g>\n<!-- 14 -->\n<g id=\"node14\" class=\"node\">\n<title>14</title>\n<ellipse fill=\"yellow\" stroke=\"blue\" cx=\"494\" cy=\"-817\" rx=\"27\" ry=\"18\"/>\n<text text-anchor=\"middle\" x=\"494\" y=\"-813.3\" font-family=\"Times,serif\" font-size=\"14.00\">+</text>\n</g>\n<!-- 14&#45;&gt;13 -->\n<g id=\"edge8\" class=\"edge\">\n<title>14&#45;&gt;13</title>\n<path fill=\"none\" stroke=\"black\" d=\"M494,-798.57C494,-791.03 494,-782.02 494,-773.58\"/>\n<polygon fill=\"black\" stroke=\"black\" points=\"497.5,-773.75 494,-763.75 490.5,-773.75 497.5,-773.75\"/>\n</g>\n<!-- 15 -->\n<g id=\"node15\" class=\"node\">\n<title>15</title>\n<polygon fill=\"none\" stroke=\"blue\" points=\"290.5,-871.5 290.5,-907.5 485.5,-907.5 485.5,-871.5 290.5,-871.5\"/>\n<text text-anchor=\"middle\" x=\"301\" y=\"-885.8\" font-family=\"Times,serif\" font-size=\"14.00\"> </text>\n<polyline fill=\"none\" stroke=\"blue\" points=\"311.5,-871.5 311.5,-907.5\"/>\n<text text-anchor=\"middle\" x=\"344.5\" y=\"-885.8\" font-family=\"Times,serif\" font-size=\"14.00\">0.3000</text>\n<polyline fill=\"none\" stroke=\"blue\" points=\"377.5,-871.5 377.5,-907.5\"/>\n<text text-anchor=\"middle\" x=\"431.5\" y=\"-885.8\" font-family=\"Times,serif\" font-size=\"14.00\">grad: 1.6550</text>\n</g>\n<!-- 15&#45;&gt;14 -->\n<g id=\"edge9\" class=\"edge\">\n<title>15&#45;&gt;14</title>\n<path fill=\"none\" stroke=\"black\" d=\"M413.39,-871.61C429.21,-861.09 449.6,-847.53 465.91,-836.69\"/>\n<polygon fill=\"black\" stroke=\"black\" points=\"467.81,-839.62 474.2,-831.17 463.93,-833.79 467.81,-839.62\"/>\n</g>\n<!-- 16 -->\n<g id=\"node16\" class=\"node\">\n<title>16</title>\n<polygon fill=\"none\" stroke=\"blue\" points=\"503.5,-871.5 503.5,-907.5 698.5,-907.5 698.5,-871.5 503.5,-871.5\"/>\n<text text-anchor=\"middle\" x=\"514\" y=\"-885.8\" font-family=\"Times,serif\" font-size=\"14.00\"> </text>\n<polyline fill=\"none\" stroke=\"blue\" points=\"524.5,-871.5 524.5,-907.5\"/>\n<text text-anchor=\"middle\" x=\"557.5\" y=\"-885.8\" font-family=\"Times,serif\" font-size=\"14.00\">0.4840</text>\n<polyline fill=\"none\" stroke=\"blue\" points=\"590.5,-871.5 590.5,-907.5\"/>\n<text text-anchor=\"middle\" x=\"644.5\" y=\"-885.8\" font-family=\"Times,serif\" font-size=\"14.00\">grad: 1.6550</text>\n</g>\n<!-- 16&#45;&gt;14 -->\n<g id=\"edge22\" class=\"edge\">\n<title>16&#45;&gt;14</title>\n<path fill=\"none\" stroke=\"black\" d=\"M575.37,-871.61C559.25,-860.99 538.43,-847.28 521.89,-836.38\"/>\n<polygon fill=\"black\" stroke=\"black\" points=\"524.26,-833.75 513.98,-831.17 520.41,-839.59 524.26,-833.75\"/>\n</g>\n<!-- 17 -->\n<g id=\"node17\" class=\"node\">\n<title>17</title>\n<ellipse fill=\"yellow\" stroke=\"blue\" cx=\"601\" cy=\"-962\" rx=\"27\" ry=\"18\"/>\n<text text-anchor=\"middle\" x=\"601\" y=\"-958.3\" font-family=\"Times,serif\" font-size=\"14.00\">+</text>\n</g>\n<!-- 17&#45;&gt;16 -->\n<g id=\"edge10\" class=\"edge\">\n<title>17&#45;&gt;16</title>\n<path fill=\"none\" stroke=\"black\" d=\"M601,-943.57C601,-936.03 601,-927.02 601,-918.58\"/>\n<polygon fill=\"black\" stroke=\"black\" points=\"604.5,-918.75 601,-908.75 597.5,-918.75 604.5,-918.75\"/>\n</g>\n<!-- 18 -->\n<g id=\"node18\" class=\"node\">\n<title>18</title>\n<polygon fill=\"none\" stroke=\"blue\" points=\"438.5,-1306.5 438.5,-1342.5 637.5,-1342.5 637.5,-1306.5 438.5,-1306.5\"/>\n<text text-anchor=\"middle\" x=\"451\" y=\"-1320.8\" font-family=\"Times,serif\" font-size=\"14.00\">a</text>\n<polyline fill=\"none\" stroke=\"blue\" points=\"463.5,-1306.5 463.5,-1342.5\"/>\n<text text-anchor=\"middle\" x=\"496.5\" y=\"-1320.8\" font-family=\"Times,serif\" font-size=\"14.00\">0.4000</text>\n<polyline fill=\"none\" stroke=\"blue\" points=\"529.5,-1306.5 529.5,-1342.5\"/>\n<text text-anchor=\"middle\" x=\"583.5\" y=\"-1320.8\" font-family=\"Times,serif\" font-size=\"14.00\">grad: 2.2011</text>\n</g>\n<!-- 18&#45;&gt;17 -->\n<g id=\"edge11\" class=\"edge\">\n<title>18&#45;&gt;17</title>\n<path fill=\"none\" stroke=\"black\" d=\"M538,-1306.77C538,-1280.07 538,-1226.18 538,-1180.5 538,-1180.5 538,-1180.5 538,-1106 538,-1065.02 540.17,-1052.89 558,-1016 563.2,-1005.23 570.99,-994.72 578.51,-985.93\"/>\n<polygon fill=\"black\" stroke=\"black\" points=\"581.03,-988.35 585.12,-978.58 575.83,-983.67 581.03,-988.35\"/>\n</g>\n<!-- 22 -->\n<g id=\"node22\" class=\"node\">\n<title>22</title>\n<ellipse fill=\"yellow\" stroke=\"blue\" cx=\"882\" cy=\"-1252\" rx=\"27\" ry=\"18\"/>\n<text text-anchor=\"middle\" x=\"882\" y=\"-1248.3\" font-family=\"Times,serif\" font-size=\"14.00\">*</text>\n</g>\n<!-- 18&#45;&gt;22 -->\n<g id=\"edge15\" class=\"edge\">\n<title>18&#45;&gt;22</title>\n<path fill=\"none\" stroke=\"black\" d=\"M620.83,-1306.52C692.18,-1291.9 791.81,-1271.48 845.03,-1260.58\"/>\n<polygon fill=\"black\" stroke=\"black\" points=\"845.7,-1264.01 854.79,-1258.58 844.3,-1257.15 845.7,-1264.01\"/>\n</g>\n<!-- 25 -->\n<g id=\"node25\" class=\"node\">\n<title>25</title>\n<ellipse fill=\"yellow\" stroke=\"blue\" cx=\"665\" cy=\"-1252\" rx=\"27\" ry=\"18\"/>\n<text text-anchor=\"middle\" x=\"665\" y=\"-1248.3\" font-family=\"Times,serif\" font-size=\"14.00\">+</text>\n</g>\n<!-- 18&#45;&gt;25 -->\n<g id=\"edge19\" class=\"edge\">\n<title>18&#45;&gt;25</title>\n<path fill=\"none\" stroke=\"black\" d=\"M568.42,-1306.61C588.54,-1295.44 614.81,-1280.86 634.87,-1269.72\"/>\n<polygon fill=\"black\" stroke=\"black\" points=\"636.36,-1272.9 643.41,-1264.99 632.97,-1266.78 636.36,-1272.9\"/>\n</g>\n<!-- 19 -->\n<g id=\"node19\" class=\"node\">\n<title>19</title>\n<polygon fill=\"none\" stroke=\"blue\" points=\"567.5,-1016.5 567.5,-1052.5 762.5,-1052.5 762.5,-1016.5 567.5,-1016.5\"/>\n<text text-anchor=\"middle\" x=\"578\" y=\"-1030.8\" font-family=\"Times,serif\" font-size=\"14.00\"> </text>\n<polyline fill=\"none\" stroke=\"blue\" points=\"588.5,-1016.5 588.5,-1052.5\"/>\n<text text-anchor=\"middle\" x=\"621.5\" y=\"-1030.8\" font-family=\"Times,serif\" font-size=\"14.00\">0.0840</text>\n<polyline fill=\"none\" stroke=\"blue\" points=\"654.5,-1016.5 654.5,-1052.5\"/>\n<text text-anchor=\"middle\" x=\"708.5\" y=\"-1030.8\" font-family=\"Times,serif\" font-size=\"14.00\">grad: 1.6550</text>\n</g>\n<!-- 19&#45;&gt;17 -->\n<g id=\"edge21\" class=\"edge\">\n<title>19&#45;&gt;17</title>\n<path fill=\"none\" stroke=\"black\" d=\"M649.83,-1016.79C641.48,-1007.6 631,-996.05 621.89,-986.01\"/>\n<polygon fill=\"black\" stroke=\"black\" points=\"624.65,-983.85 615.34,-978.8 619.47,-988.55 624.65,-983.85\"/>\n</g>\n<!-- 20 -->\n<g id=\"node20\" class=\"node\">\n<title>20</title>\n<ellipse fill=\"yellow\" stroke=\"blue\" cx=\"665\" cy=\"-1107\" rx=\"27\" ry=\"18\"/>\n<text text-anchor=\"middle\" x=\"665\" y=\"-1103.3\" font-family=\"Times,serif\" font-size=\"14.00\">*</text>\n</g>\n<!-- 20&#45;&gt;19 -->\n<g id=\"edge12\" class=\"edge\">\n<title>20&#45;&gt;19</title>\n<path fill=\"none\" stroke=\"black\" d=\"M665,-1088.57C665,-1081.03 665,-1072.02 665,-1063.58\"/>\n<polygon fill=\"black\" stroke=\"black\" points=\"668.5,-1063.75 665,-1053.75 661.5,-1063.75 668.5,-1063.75\"/>\n</g>\n<!-- 21 -->\n<g id=\"node21\" class=\"node\">\n<title>21</title>\n<polygon fill=\"none\" stroke=\"blue\" points=\"782,-1161.5 782,-1197.5 982,-1197.5 982,-1161.5 782,-1161.5\"/>\n<text text-anchor=\"middle\" x=\"795\" y=\"-1175.8\" font-family=\"Times,serif\" font-size=\"14.00\">d</text>\n<polyline fill=\"none\" stroke=\"blue\" points=\"808,-1161.5 808,-1197.5\"/>\n<text text-anchor=\"middle\" x=\"841\" y=\"-1175.8\" font-family=\"Times,serif\" font-size=\"14.00\">0.1200</text>\n<polyline fill=\"none\" stroke=\"blue\" points=\"874,-1161.5 874,-1197.5\"/>\n<text text-anchor=\"middle\" x=\"928\" y=\"-1175.8\" font-family=\"Times,serif\" font-size=\"14.00\">grad: 1.1585</text>\n</g>\n<!-- 21&#45;&gt;20 -->\n<g id=\"edge16\" class=\"edge\">\n<title>21&#45;&gt;20</title>\n<path fill=\"none\" stroke=\"black\" d=\"M829.75,-1161.52C789.46,-1148.44 734.87,-1130.7 699.79,-1119.3\"/>\n<polygon fill=\"black\" stroke=\"black\" points=\"701.16,-1116.07 690.57,-1116.31 699,-1122.73 701.16,-1116.07\"/>\n</g>\n<!-- 22&#45;&gt;21 -->\n<g id=\"edge13\" class=\"edge\">\n<title>22&#45;&gt;21</title>\n<path fill=\"none\" stroke=\"black\" d=\"M882,-1233.57C882,-1226.03 882,-1217.02 882,-1208.58\"/>\n<polygon fill=\"black\" stroke=\"black\" points=\"885.5,-1208.75 882,-1198.75 878.5,-1208.75 885.5,-1208.75\"/>\n</g>\n<!-- 23 -->\n<g id=\"node23\" class=\"node\">\n<title>23</title>\n<polygon fill=\"none\" stroke=\"blue\" points=\"874.5,-1306.5 874.5,-1342.5 1069.5,-1342.5 1069.5,-1306.5 874.5,-1306.5\"/>\n<text text-anchor=\"middle\" x=\"885\" y=\"-1320.8\" font-family=\"Times,serif\" font-size=\"14.00\"> </text>\n<polyline fill=\"none\" stroke=\"blue\" points=\"895.5,-1306.5 895.5,-1342.5\"/>\n<text text-anchor=\"middle\" x=\"928.5\" y=\"-1320.8\" font-family=\"Times,serif\" font-size=\"14.00\">0.3000</text>\n<polyline fill=\"none\" stroke=\"blue\" points=\"961.5,-1306.5 961.5,-1342.5\"/>\n<text text-anchor=\"middle\" x=\"1015.5\" y=\"-1320.8\" font-family=\"Times,serif\" font-size=\"14.00\">grad: 0.4634</text>\n</g>\n<!-- 23&#45;&gt;22 -->\n<g id=\"edge14\" class=\"edge\">\n<title>23&#45;&gt;22</title>\n<path fill=\"none\" stroke=\"black\" d=\"M950.67,-1306.79C937.83,-1296.74 921.4,-1283.86 907.83,-1273.23\"/>\n<polygon fill=\"black\" stroke=\"black\" points=\"910.19,-1270.64 900.16,-1267.22 905.87,-1276.15 910.19,-1270.64\"/>\n</g>\n<!-- 24 -->\n<g id=\"node24\" class=\"node\">\n<title>24</title>\n<polygon fill=\"none\" stroke=\"blue\" points=\"566,-1161.5 566,-1197.5 764,-1197.5 764,-1161.5 566,-1161.5\"/>\n<text text-anchor=\"middle\" x=\"578\" y=\"-1175.8\" font-family=\"Times,serif\" font-size=\"14.00\">c</text>\n<polyline fill=\"none\" stroke=\"blue\" points=\"590,-1161.5 590,-1197.5\"/>\n<text text-anchor=\"middle\" x=\"623\" y=\"-1175.8\" font-family=\"Times,serif\" font-size=\"14.00\">0.7000</text>\n<polyline fill=\"none\" stroke=\"blue\" points=\"656,-1161.5 656,-1197.5\"/>\n<text text-anchor=\"middle\" x=\"710\" y=\"-1175.8\" font-family=\"Times,serif\" font-size=\"14.00\">grad: 0.1986</text>\n</g>\n<!-- 24&#45;&gt;20 -->\n<g id=\"edge20\" class=\"edge\">\n<title>24&#45;&gt;20</title>\n<path fill=\"none\" stroke=\"black\" d=\"M665,-1161.79C665,-1154.18 665,-1144.95 665,-1136.3\"/>\n<polygon fill=\"black\" stroke=\"black\" points=\"668.5,-1136.59 665,-1126.59 661.5,-1136.59 668.5,-1136.59\"/>\n</g>\n<!-- 25&#45;&gt;24 -->\n<g id=\"edge17\" class=\"edge\">\n<title>25&#45;&gt;24</title>\n<path fill=\"none\" stroke=\"black\" d=\"M665,-1233.57C665,-1226.03 665,-1217.02 665,-1208.58\"/>\n<polygon fill=\"black\" stroke=\"black\" points=\"668.5,-1208.75 665,-1198.75 661.5,-1208.75 668.5,-1208.75\"/>\n</g>\n<!-- 26 -->\n<g id=\"node26\" class=\"node\">\n<title>26</title>\n<polygon fill=\"none\" stroke=\"blue\" points=\"656,-1306.5 656,-1342.5 856,-1342.5 856,-1306.5 656,-1306.5\"/>\n<text text-anchor=\"middle\" x=\"669\" y=\"-1320.8\" font-family=\"Times,serif\" font-size=\"14.00\">b</text>\n<polyline fill=\"none\" stroke=\"blue\" points=\"682,-1306.5 682,-1342.5\"/>\n<text text-anchor=\"middle\" x=\"715\" y=\"-1320.8\" font-family=\"Times,serif\" font-size=\"14.00\">0.3000</text>\n<polyline fill=\"none\" stroke=\"blue\" points=\"748,-1306.5 748,-1342.5\"/>\n<text text-anchor=\"middle\" x=\"802\" y=\"-1320.8\" font-family=\"Times,serif\" font-size=\"14.00\">grad: 0.1986</text>\n</g>\n<!-- 26&#45;&gt;25 -->\n<g id=\"edge18\" class=\"edge\">\n<title>26&#45;&gt;25</title>\n<path fill=\"none\" stroke=\"black\" d=\"M734.43,-1306.79C721.45,-1296.74 704.84,-1283.86 691.11,-1273.23\"/>\n<polygon fill=\"black\" stroke=\"black\" points=\"693.4,-1270.58 683.35,-1267.22 689.11,-1276.11 693.4,-1270.58\"/>\n</g>\n<!-- 27 -->\n<g id=\"node27\" class=\"node\">\n<title>27</title>\n<polygon fill=\"none\" stroke=\"blue\" points=\"0,-291.5 0,-327.5 200,-327.5 200,-291.5 0,-291.5\"/>\n<text text-anchor=\"middle\" x=\"10.5\" y=\"-305.8\" font-family=\"Times,serif\" font-size=\"14.00\"> </text>\n<polyline fill=\"none\" stroke=\"blue\" points=\"21,-291.5 21,-327.5\"/>\n<text text-anchor=\"middle\" x=\"56.5\" y=\"-305.8\" font-family=\"Times,serif\" font-size=\"14.00\">&#45;1.0000</text>\n<polyline fill=\"none\" stroke=\"blue\" points=\"92,-291.5 92,-327.5\"/>\n<text text-anchor=\"middle\" x=\"146\" y=\"-305.8\" font-family=\"Times,serif\" font-size=\"14.00\">grad: 1.1511</text>\n</g>\n<!-- 27&#45;&gt;4 -->\n<g id=\"edge27\" class=\"edge\">\n<title>27&#45;&gt;4</title>\n<path fill=\"none\" stroke=\"black\" d=\"M149.8,-291.58C187.54,-278.76 238.56,-261.43 272.56,-249.88\"/>\n<polygon fill=\"black\" stroke=\"black\" points=\"273.62,-253.22 281.96,-246.69 271.37,-246.59 273.62,-253.22\"/>\n</g>\n<!-- 28 -->\n<g id=\"node28\" class=\"node\">\n<title>28</title>\n<polygon fill=\"none\" stroke=\"blue\" points=\"356.5,-218.5 356.5,-254.5 551.5,-254.5 551.5,-218.5 356.5,-218.5\"/>\n<text text-anchor=\"middle\" x=\"367\" y=\"-232.8\" font-family=\"Times,serif\" font-size=\"14.00\"> </text>\n<polyline fill=\"none\" stroke=\"blue\" points=\"377.5,-218.5 377.5,-254.5\"/>\n<text text-anchor=\"middle\" x=\"410.5\" y=\"-232.8\" font-family=\"Times,serif\" font-size=\"14.00\">3.7970</text>\n<polyline fill=\"none\" stroke=\"blue\" points=\"443.5,-218.5 443.5,-254.5\"/>\n<text text-anchor=\"middle\" x=\"497.5\" y=\"-232.8\" font-family=\"Times,serif\" font-size=\"14.00\">grad: 0.1725</text>\n</g>\n<!-- 28&#45;&gt;2 -->\n<g id=\"edge32\" class=\"edge\">\n<title>28&#45;&gt;2</title>\n<path fill=\"none\" stroke=\"black\" d=\"M450.38,-218.75C445.89,-200 437.19,-169.1 424,-145 418.26,-134.51 410.36,-124.05 402.9,-115.23\"/>\n<polygon fill=\"black\" stroke=\"black\" points=\"405.62,-113.03 396.39,-107.84 400.37,-117.66 405.62,-113.03\"/>\n</g>\n<!-- 29&#45;&gt;28 -->\n<g id=\"edge29\" class=\"edge\">\n<title>29&#45;&gt;28</title>\n<path fill=\"none\" stroke=\"black\" d=\"M454,-363.69C454,-339.43 454,-295.01 454,-265.87\"/>\n<polygon fill=\"black\" stroke=\"black\" points=\"457.5,-265.94 454,-255.94 450.5,-265.94 457.5,-265.94\"/>\n</g>\n<!-- 30 -->\n<g id=\"node30\" class=\"node\">\n<title>30</title>\n<polygon fill=\"none\" stroke=\"blue\" points=\"502,-436.5 502,-472.5 702,-472.5 702,-436.5 502,-436.5\"/>\n<text text-anchor=\"middle\" x=\"512.5\" y=\"-450.8\" font-family=\"Times,serif\" font-size=\"14.00\"> </text>\n<polyline fill=\"none\" stroke=\"blue\" points=\"523,-436.5 523,-472.5\"/>\n<text text-anchor=\"middle\" x=\"558.5\" y=\"-450.8\" font-family=\"Times,serif\" font-size=\"14.00\">&#45;1.0000</text>\n<polyline fill=\"none\" stroke=\"blue\" points=\"594,-436.5 594,-472.5\"/>\n<text text-anchor=\"middle\" x=\"648\" y=\"-450.8\" font-family=\"Times,serif\" font-size=\"14.00\">grad: 0.1725</text>\n</g>\n<!-- 30&#45;&gt;29 -->\n<g id=\"edge30\" class=\"edge\">\n<title>30&#45;&gt;29</title>\n<path fill=\"none\" stroke=\"black\" d=\"M566.55,-436.61C541.93,-424.89 509.41,-409.39 485.66,-398.08\"/>\n<polygon fill=\"black\" stroke=\"black\" points=\"487.32,-395 476.79,-393.86 484.31,-401.32 487.32,-395\"/>\n</g>\n</g>\n</svg>\n",
      "text/plain": [
       "<graphviz.graphs.Digraph at 0x7faeb07b22f0>"
      ]
     },
     "execution_count": 95,
     "metadata": {},
     "output_type": "execute_result"
    }
   ],
   "source": [
    "def graph_value(v: Value):\n",
    "    visited = {}\n",
    "    g = gz.Digraph('G', node_attr={'shape': 'record', 'color': 'blue'}, edge_attr={})\n",
    "    def ns(n: int, v : Value) -> str:\n",
    "        g.node(str(n), f'{v.label}|{v.data : .4f}|grad: {v._grad: .4f}')\n",
    "        if v._op is not None:\n",
    "            n += 1\n",
    "            g.node(str(n), v._op, shape='ellipse', style='filled', fillcolor='yellow')\n",
    "            g.edge(str(n), str(n-1))\n",
    "        n0 = n\n",
    "        for v in v._children:\n",
    "            assert(isinstance(n, int))\n",
    "            if v not in visited:\n",
    "                n0 =  n0 + 1\n",
    "                n2 = ns(n0, v)\n",
    "                g.edge(str(n0), str(n))\n",
    "                visited[v] = str(n0)\n",
    "                n0 = n2\n",
    "            else:\n",
    "                g.edge(visited[v], str(n))\n",
    "        return n0\n",
    "    ns(1,v)\n",
    "    return g\n",
    "\n",
    "f.zero_back()\n",
    "f.backward()\n",
    "graph_value(f)\n"
   ]
  },
  {
   "cell_type": "code",
   "execution_count": null,
   "metadata": {},
   "outputs": [],
   "source": [
    "def f(x):\n",
    "    return 3 * x** 2 - 4 * x + 5\n",
    "xs = np.arange(-5, 5, .25)\n",
    "ys = f(xs)\n",
    "\n",
    "plt.plot(xs, ys)\n"
   ]
  },
  {
   "cell_type": "markdown",
   "metadata": {},
   "source": [
    "# Derivatives\n",
    "\n",
    "Given the following definition of a derivative for $f(x)$ <br>\n",
    "${{df}\\over{dx}}=\\lim\\limits_{h \\to 0}{{f(x + h) - f(x)}\\over{h}}$\n",
    "\n",
    "We can now define a derivative for the following operations\n",
    "\n",
    "* $f(g, k) = g * k$ <br>\n",
    "$\\implies {df\\over dg} = \\lim\\limits_{h\\to0}{((g+h) * k) - (g * k) \\over h}$ <br>\n",
    "$\\implies {df\\over dg} = \\lim\\limits_{h\\to0}{(g* k) - (g * k) + (h*k) \\over h}$ <br>\n",
    "$\\implies {df\\over dg} = k $ <br>\n",
    "$\\Box$\n",
    "\n",
    "* $f(g,k) = g + k$ <br>\n",
    "$\\implies {df\\over dg} = \\lim\\limits_{h\\to0}{((g+h) + k) - (g + k) \\over h}$ <br>\n",
    "$\\implies {df\\over dg} = \\lim\\limits_{h\\to0}{(g - g) +  (k - k) + h\\over h}$ <br>\n",
    "$\\implies {df\\over dg} = 1 $ <br>\n",
    "$\\Box$\n",
    "\n",
    "\n",
    "* $f(g,k) = g^k$ <br>\n",
    "\n",
    "$\\implies {df\\over dg} = \\lim\\limits_{h\\to0}{((g+h)^k) - (g^k) \\over h}$ <br>"
   ]
  }
 ],
 "metadata": {
  "kernelspec": {
   "display_name": "Python 3.10.8 ('.venv': venv)",
   "language": "python",
   "name": "python3"
  },
  "language_info": {
   "codemirror_mode": {
    "name": "ipython",
    "version": 3
   },
   "file_extension": ".py",
   "mimetype": "text/x-python",
   "name": "python",
   "nbconvert_exporter": "python",
   "pygments_lexer": "ipython3",
   "version": "3.10.8"
  },
  "orig_nbformat": 4,
  "vscode": {
   "interpreter": {
    "hash": "cfbabccf354ca50cf93cbee48f20d4c72f7b248248886686523a78f039fb73b9"
   }
  }
 },
 "nbformat": 4,
 "nbformat_minor": 2
}
