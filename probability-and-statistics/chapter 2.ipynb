{
 "cells": [
  {
   "cell_type": "code",
   "execution_count": 2,
   "metadata": {},
   "outputs": [],
   "source": [
    "import numpy as np\n",
    "import graphviz as gz\n",
    "import matplotlib.pyplot as plt\n",
    "import math\n",
    "import random\n",
    "\n",
    "%matplotlib inline"
   ]
  },
  {
   "attachments": {},
   "cell_type": "markdown",
   "metadata": {},
   "source": [
    "# Example 2.1\n",
    "\n",
    "Draw a dotplot for the 5 measurements 2, 9, 11, 5, 6. Find the sample mean and compare its value with what you might consider the “center” of these observations on the dotplot."
   ]
  },
  {
   "cell_type": "code",
   "execution_count": 20,
   "metadata": {},
   "outputs": [
    {
     "data": {
      "text/plain": [
       "<matplotlib.legend.Legend at 0x7f3b70d67310>"
      ]
     },
     "execution_count": 20,
     "metadata": {},
     "output_type": "execute_result"
    },
    {
     "data": {
      "image/png": "[encoded data removed]",
      "text/plain": [
       "<Figure size 640x190 with 1 Axes>"
      ]
     },
     "metadata": {},
     "output_type": "display_data"
    }
   ],
   "source": [
    "data = [2, 9, 11, 5, 6]\n",
    "n = len(data)\n",
    "\n",
    "fig, ax = plt.subplots()\n",
    "fig.set_figheight(1.9)\n",
    "\n",
    "ys = [0] * 5\n",
    "ax.yaxis.set_visible(False)\n",
    "ax.scatter(data, ys, marker='o')\n",
    "ax.scatter([sum(data) / n], [0], s=70, marker='^', label='mean')\n",
    "ax.scatter(sorted(data)[n//2:n//2 + 1], [0], s=70, marker='s', label='median')\n",
    "ax.legend()"
   ]
  },
  {
   "cell_type": "code",
   "execution_count": null,
   "metadata": {},
   "outputs": [],
   "source": []
  }
 ],
 "metadata": {
  "kernelspec": {
   "display_name": ".venv",
   "language": "python",
   "name": "python3"
  },
  "language_info": {
   "codemirror_mode": {
    "name": "ipython",
    "version": 3
   },
   "file_extension": ".py",
   "mimetype": "text/x-python",
   "name": "python",
   "nbconvert_exporter": "python",
   "pygments_lexer": "ipython3",
   "version": "3.10.8"
  },
  "orig_nbformat": 4,
  "vscode": {
   "interpreter": {
    "hash": "cfbabccf354ca50cf93cbee48f20d4c72f7b248248886686523a78f039fb73b9"
   }
  }
 },
 "nbformat": 4,
 "nbformat_minor": 2
}
